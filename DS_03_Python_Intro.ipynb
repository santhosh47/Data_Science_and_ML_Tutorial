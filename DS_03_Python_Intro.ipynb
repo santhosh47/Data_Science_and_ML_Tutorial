{
  "nbformat": 4,
  "nbformat_minor": 0,
  "metadata": {
    "colab": {
      "provenance": [],
      "authorship_tag": "ABX9TyOVKrekQCLexugL1f3R5sR4",
      "include_colab_link": true
    },
    "kernelspec": {
      "name": "python3",
      "display_name": "Python 3"
    },
    "language_info": {
      "name": "python"
    }
  },
  "cells": [
    {
      "cell_type": "markdown",
      "metadata": {
        "id": "view-in-github",
        "colab_type": "text"
      },
      "source": [
        "<a href=\"https://colab.research.google.com/github/santhosh47/Data_Science_and_ML_Tutorial/blob/main/DS_03_Python_Intro.ipynb\" target=\"_parent\"><img src=\"https://colab.research.google.com/assets/colab-badge.svg\" alt=\"Open In Colab\"/></a>"
      ]
    },
    {
      "cell_type": "markdown",
      "source": [
        "#Python Variables\n",
        "\n",
        "Python has no command for declaring a variable.\n",
        "\n",
        "A variable is created the moment you first assign a value to it."
      ],
      "metadata": {
        "id": "KBMx4S0v9SjL"
      }
    },
    {
      "cell_type": "code",
      "execution_count": null,
      "metadata": {
        "id": "JH-V2Lx99DnG",
        "colab": {
          "base_uri": "https://localhost:8080/"
        },
        "outputId": "eaa263a2-47ae-4dd4-cd13-6899d63cfb40"
      },
      "outputs": [
        {
          "output_type": "stream",
          "name": "stdout",
          "text": [
            "5\n",
            "John\n"
          ]
        }
      ],
      "source": [
        "x = 5\n",
        "y = \"John\"\n",
        "print(x)\n",
        "print(y)"
      ]
    },
    {
      "cell_type": "markdown",
      "source": [
        "Variables do not need to be declared with any particular type, and can even change type after they have been set."
      ],
      "metadata": {
        "id": "9h0Gd57r9amt"
      }
    },
    {
      "cell_type": "code",
      "source": [
        "x = 4       # x is of type int\n",
        "x = \"Sally\" # x is now of type str\n",
        "print(x)"
      ],
      "metadata": {
        "id": "aZetn2MU9cSP",
        "colab": {
          "base_uri": "https://localhost:8080/"
        },
        "outputId": "f572b9f4-bd3e-46a4-be7b-849540dd9240"
      },
      "execution_count": null,
      "outputs": [
        {
          "output_type": "stream",
          "name": "stdout",
          "text": [
            "Sally\n"
          ]
        }
      ]
    },
    {
      "cell_type": "markdown",
      "source": [
        "#Casting\n",
        "If you want to specify the data type of a variable, this can be done with casting."
      ],
      "metadata": {
        "id": "-011B-UR9ffq"
      }
    },
    {
      "cell_type": "code",
      "source": [
        "x = str(3)    # x will be '3'\n",
        "y = int(3)    # y will be 3\n",
        "z = float(3)  # z will be 3.0"
      ],
      "metadata": {
        "id": "Apbe4QuZ9esS"
      },
      "execution_count": null,
      "outputs": []
    },
    {
      "cell_type": "code",
      "source": [
        "print(type(z))"
      ],
      "metadata": {
        "colab": {
          "base_uri": "https://localhost:8080/"
        },
        "id": "ZttUTtH_CXak",
        "outputId": "f18764c9-9e7b-490b-da3a-086924a827c6"
      },
      "execution_count": null,
      "outputs": [
        {
          "output_type": "stream",
          "name": "stdout",
          "text": [
            "<class 'float'>\n"
          ]
        }
      ]
    },
    {
      "cell_type": "markdown",
      "source": [
        "#Get the Type\n",
        "You can get the data type of a variable with the type() function."
      ],
      "metadata": {
        "id": "GMTPFqT69nMP"
      }
    },
    {
      "cell_type": "code",
      "source": [
        "x = 5\n",
        "y = \"John\"\n",
        "print(type(x))\n",
        "print(type(y))"
      ],
      "metadata": {
        "id": "cPtIjK0z9ljg"
      },
      "execution_count": null,
      "outputs": []
    },
    {
      "cell_type": "markdown",
      "source": [
        "#Single or Double Quotes?\n",
        "String variables can be declared either by using single or double quotes:"
      ],
      "metadata": {
        "id": "IOlG2GPy9vQQ"
      }
    },
    {
      "cell_type": "code",
      "source": [
        "x = \"John\"\n",
        "# is the same as\n",
        "x = 'John'"
      ],
      "metadata": {
        "id": "srxv9b4j9ucj"
      },
      "execution_count": null,
      "outputs": []
    },
    {
      "cell_type": "markdown",
      "source": [
        "#Case-Sensitive\n",
        "Variable names are case-sensitive."
      ],
      "metadata": {
        "id": "6INWUaqy914N"
      }
    },
    {
      "cell_type": "code",
      "source": [
        "a = 4\n",
        "A = \"Sally\"\n",
        "#A will not overwrite a"
      ],
      "metadata": {
        "id": "W-g0ZM1T93tt"
      },
      "execution_count": null,
      "outputs": []
    },
    {
      "cell_type": "markdown",
      "source": [
        "#One Value to Multiple Variables\n",
        "And you can assign the same value to multiple variables in one line:"
      ],
      "metadata": {
        "id": "yh83pyU2-CYV"
      }
    },
    {
      "cell_type": "code",
      "source": [
        "x = y = z = \"Orange\"\n",
        "print(x)\n",
        "print(y)\n",
        "print(z)"
      ],
      "metadata": {
        "id": "zIBKedSl-Egc",
        "colab": {
          "base_uri": "https://localhost:8080/"
        },
        "outputId": "67a60e84-7283-440b-8698-1b0c9fc1d1ce"
      },
      "execution_count": null,
      "outputs": [
        {
          "output_type": "stream",
          "name": "stdout",
          "text": [
            "Orange\n",
            "Orange\n",
            "Orange\n"
          ]
        }
      ]
    },
    {
      "cell_type": "code",
      "source": [
        "z=\"Apple\""
      ],
      "metadata": {
        "id": "dQPOQZTSGfiD"
      },
      "execution_count": null,
      "outputs": []
    },
    {
      "cell_type": "code",
      "source": [
        "print(x)\n",
        "print(y)\n",
        "print(z)"
      ],
      "metadata": {
        "id": "Hr8JMh1EGkVn",
        "outputId": "1e953bf2-7da8-4cb3-cd7b-d10eff635f83",
        "colab": {
          "base_uri": "https://localhost:8080/"
        }
      },
      "execution_count": null,
      "outputs": [
        {
          "output_type": "stream",
          "name": "stdout",
          "text": [
            "Orange\n",
            "Orange\n",
            "Apple\n"
          ]
        }
      ]
    },
    {
      "cell_type": "markdown",
      "source": [
        "#Unpack a Collection\n",
        "If you have a collection of values in a list, tuple etc. Python allows you to extract the values into variables. This is called unpacking."
      ],
      "metadata": {
        "id": "TQ2uEi8P-Moq"
      }
    },
    {
      "cell_type": "code",
      "source": [
        "fruits = [\"apple\", \"banana\", \"cherry\"]\n",
        "x, y, z = fruits\n",
        "print(x)\n",
        "print(y)\n",
        "print(z)"
      ],
      "metadata": {
        "id": "N69-YlQG-Ovu"
      },
      "execution_count": null,
      "outputs": []
    },
    {
      "cell_type": "markdown",
      "source": [
        "#Output Variables\n",
        "The Python print() function is often used to output variables."
      ],
      "metadata": {
        "id": "RStKLYCP-W4f"
      }
    },
    {
      "cell_type": "code",
      "source": [
        "x = \"Python is awesome\"\n",
        "print(x)"
      ],
      "metadata": {
        "id": "SfmmRpdI-ZAk"
      },
      "execution_count": null,
      "outputs": []
    },
    {
      "cell_type": "markdown",
      "source": [
        "In the print() function, you output multiple variables, separated by a comma:"
      ],
      "metadata": {
        "id": "GW30W7QB-brY"
      }
    },
    {
      "cell_type": "code",
      "source": [
        "x = \"Python\"\n",
        "y = \"is\"\n",
        "z = \"awesome\"\n",
        "print(x, y, z)"
      ],
      "metadata": {
        "id": "Z6I5HD3z-c1d"
      },
      "execution_count": null,
      "outputs": []
    },
    {
      "cell_type": "markdown",
      "source": [
        "You can also use the + operator to output multiple variables:"
      ],
      "metadata": {
        "id": "yIv6QK-f-g8a"
      }
    },
    {
      "cell_type": "code",
      "source": [
        "x = \"Python \"\n",
        "y = \"is \"\n",
        "z = \"awesome\"\n",
        "print(x + y + z)"
      ],
      "metadata": {
        "id": "apDVcSMD-f8N"
      },
      "execution_count": null,
      "outputs": []
    },
    {
      "cell_type": "markdown",
      "source": [
        "For numbers, the + character works as a mathematical operator:"
      ],
      "metadata": {
        "id": "9u2L5x8--nSx"
      }
    },
    {
      "cell_type": "code",
      "source": [
        "#Example\n",
        "x = 5\n",
        "y = 10\n",
        "print(x + y)"
      ],
      "metadata": {
        "id": "FanQfSge-oBu"
      },
      "execution_count": null,
      "outputs": []
    },
    {
      "cell_type": "markdown",
      "source": [
        "In the print() function, when you try to combine a string and a number with the + operator, Python will give you an error:"
      ],
      "metadata": {
        "id": "6Oghf0sY-xDG"
      }
    },
    {
      "cell_type": "code",
      "source": [
        "x = 5\n",
        "y = \"John\"\n",
        "print(x + y)"
      ],
      "metadata": {
        "id": "8yWsMiwe-x2M"
      },
      "execution_count": null,
      "outputs": []
    },
    {
      "cell_type": "markdown",
      "source": [
        "The best way to output multiple variables in the print() function is to separate them with commas, which even support different data types:"
      ],
      "metadata": {
        "id": "Gpr-LWai-1_h"
      }
    },
    {
      "cell_type": "code",
      "source": [
        "x = 5\n",
        "y = \"John\"\n",
        "print(x, y)"
      ],
      "metadata": {
        "id": "KVL7NbQT-4Em"
      },
      "execution_count": null,
      "outputs": []
    },
    {
      "cell_type": "markdown",
      "source": [
        "#Global Variables\n",
        "Variables that are created outside of a function (as in all of the examples above) are known as global variables.\n",
        "\n",
        "Global variables can be used by everyone, both inside of functions and outside."
      ],
      "metadata": {
        "id": "42rhDAes-5-t"
      }
    },
    {
      "cell_type": "code",
      "source": [
        "x = \"awesome\"\n",
        "\n",
        "def myfunc():\n",
        "  print(\"Python is \" + x)\n",
        "\n",
        "myfunc()"
      ],
      "metadata": {
        "id": "cVCMhp4o_BFk"
      },
      "execution_count": null,
      "outputs": []
    },
    {
      "cell_type": "markdown",
      "source": [
        "If you create a variable with the same name inside a function, this variable will be local, and can only be used inside the function. The global variable with the same name will remain as it was, global and with the original value."
      ],
      "metadata": {
        "id": "IcF8_RGe_FcC"
      }
    },
    {
      "cell_type": "code",
      "source": [
        "x = \"awesome\"\n",
        "\n",
        "def myfunc():\n",
        "  x = \"fantastic\"\n",
        "  print(\"Python is \" + x)\n",
        "\n",
        "myfunc()\n",
        "\n",
        "print(\"Python is \" + x)"
      ],
      "metadata": {
        "id": "mO6nbKxe_GM3"
      },
      "execution_count": null,
      "outputs": []
    },
    {
      "cell_type": "markdown",
      "source": [
        "#The global Keyword\n",
        "Normally, when you create a variable inside a function, that variable is local, and can only be used inside that function.\n",
        "\n",
        "To create a global variable inside a function, you can use the global keyword."
      ],
      "metadata": {
        "id": "idUwveHE_KRu"
      }
    },
    {
      "cell_type": "code",
      "source": [
        "def myfunc():\n",
        "  global x\n",
        "  x = \"fantastic\"\n",
        "\n",
        "myfunc()\n",
        "\n",
        "print(\"Python is \" + x)"
      ],
      "metadata": {
        "id": "ZeTlfpfj_Lbf"
      },
      "execution_count": null,
      "outputs": []
    },
    {
      "cell_type": "markdown",
      "source": [
        "Also, use the global keyword if you want to change a global variable inside a function."
      ],
      "metadata": {
        "id": "hwGHhKrV_RmX"
      }
    },
    {
      "cell_type": "code",
      "source": [
        "x = \"awesome\"\n",
        "\n",
        "def myfunc():\n",
        "  global x\n",
        "  x = \"fantastic\"\n",
        "\n",
        "myfunc()\n",
        "\n",
        "print(\"Python is \" + x)"
      ],
      "metadata": {
        "id": "h0d5mYou_SEh"
      },
      "execution_count": null,
      "outputs": []
    },
    {
      "cell_type": "markdown",
      "source": [
        "#Delete a variable\n",
        "Use the del keyword to delete the variable. Once we delete the variable, it will not be longer accessible and eligible for the garbage collector."
      ],
      "metadata": {
        "id": "Zk5qR61lAKo6"
      }
    },
    {
      "cell_type": "code",
      "source": [
        "var1 = 100\n",
        "print(var1) # 100"
      ],
      "metadata": {
        "id": "ozrDPlDeALzo"
      },
      "execution_count": null,
      "outputs": []
    },
    {
      "cell_type": "code",
      "source": [
        "var1 = 100\n",
        "del var1\n",
        "print(var1)"
      ],
      "metadata": {
        "id": "WBn1GwzzAYTn"
      },
      "execution_count": null,
      "outputs": []
    },
    {
      "cell_type": "markdown",
      "source": [
        "Now, let’s delete var1 and try to access it again."
      ],
      "metadata": {
        "id": "sS4iGD4HAbBX"
      }
    },
    {
      "cell_type": "markdown",
      "source": [
        "# Local variable\n",
        "A local variable is a variable that is accessible inside a block of code only where it is declared. That means, If we declare a variable inside a method, the scope of the local variable is limited to the method only. So it is not accessible from outside of the method. If we try to access it, we will get an error."
      ],
      "metadata": {
        "id": "yZN6lCaz7Od6"
      }
    },
    {
      "cell_type": "code",
      "source": [
        "ef test1():  # defining 1st function\n",
        "    price = 900  # local variable\n",
        "    print(\"Value of price in test1 function :\", price)\n",
        "\n",
        "def test2():  # defining 2nd function\n",
        "    # NameError: name 'price' is not defined\n",
        "    print(\"Value price in test2 function:\", price)\n",
        "\n",
        "# call functions\n",
        "test1()\n",
        "test2()"
      ],
      "metadata": {
        "id": "dFthqXY5AbkO"
      },
      "execution_count": null,
      "outputs": []
    },
    {
      "cell_type": "markdown",
      "source": [
        "In the above example, we created a function with the name test1. Inside it, we created a local variable price. Similarly, we created another function with the name test2 and tried to access price, but we got an error \"price is not defined\" because its scope is limited to function test1(). This error occurs because we cannot access the local variable from outside the code block.\n",
        "\n"
      ],
      "metadata": {
        "id": "zftRuiD47Xjf"
      }
    },
    {
      "cell_type": "markdown",
      "source": [
        "# Object/Variable identity and references\n",
        "In Python, whenever we create an object, a number is given to it and uniquely identifies it. This number is nothing but a memory address of a variable’s value. Once the object is created, the identity of that object never changes."
      ],
      "metadata": {
        "id": "_pMCkA_E7keF"
      }
    },
    {
      "cell_type": "markdown",
      "source": [
        "No two objects will have the same identifier. The Object is for eligible garbage collection when deleted. Python has a built-in function id() to get the memory address of a variable.\n",
        "\n",
        "For example, consider a library with many books (memory addresses) and many students (objects). At the beginning(when we start The Python program), all books are available. When a new student comes to the library (a new object created), the librarian gives him a book. Every book has a unique number (identity), and that id number tells us which book is delivered to the student (object)"
      ],
      "metadata": {
        "id": "3Be2mdT87pfh"
      }
    },
    {
      "cell_type": "code",
      "source": [
        "n = 300\n",
        "m = n\n",
        "print(id(n)) # same memory address\n",
        "print(id(m)) # same memory address "
      ],
      "metadata": {
        "id": "0Whrqbdr7nGO"
      },
      "execution_count": null,
      "outputs": []
    },
    {
      "cell_type": "markdown",
      "source": [
        "We can access the memory addresses of these variables using the id() method. a, b refers to the same address in memory, and c, d, e refers to the same address. See the following example for more details.\n"
      ],
      "metadata": {
        "id": "ySGcj_kG79kJ"
      }
    },
    {
      "cell_type": "code",
      "source": [
        "a = 10\n",
        "b = 10\n",
        "print(id(a))\n",
        "print(id(b))\n",
        "\n",
        "c = 20\n",
        "d = 20\n",
        "e = 20\n",
        "print(id(c))\n",
        "print(id(d))\n",
        "print(id(e))"
      ],
      "metadata": {
        "id": "CfwZEOMB8EK6"
      },
      "execution_count": null,
      "outputs": []
    },
    {
      "cell_type": "markdown",
      "source": [
        "Here, an object in memory initialized with the value 10 and reference added to it, the reference count increments by ‘1’.\n",
        "\n",
        "When Python executes the next statement that is b=10, since it is the same value 10, a new object will not be created because the same object in memory with value 10 available, so it has created another reference, b. Now, the reference count for value 10 is ‘2’.\n",
        "\n",
        "Again for c=20, a new object is created with reference ‘c’ since it has a unique value (20). Similarly, for d, and e new objects will not be created because the object ’20’ already available. Now, only the reference count will be incremented.\n",
        "\n",
        "We can check the reference counts of every object by using the getrefcount function of a  sys module. This function takes the object as an input and returns the number of references.\n",
        "\n",
        "We can pass variable, name, value, function, class as an input to getrefcount() and in return, it will give a reference count for a given object."
      ],
      "metadata": {
        "id": "Yga5pGAp8Pkt"
      }
    },
    {
      "cell_type": "code",
      "source": [
        "import sys\n",
        "print(sys.getrefcount(a))\n",
        "print(sys.getrefcount(c))"
      ],
      "metadata": {
        "id": "XjR4DTIs8Ov3"
      },
      "execution_count": null,
      "outputs": []
    }
  ]
}