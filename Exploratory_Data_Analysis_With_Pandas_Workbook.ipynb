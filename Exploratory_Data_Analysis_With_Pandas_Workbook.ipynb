{
  "nbformat": 4,
  "nbformat_minor": 0,
  "metadata": {
    "colab": {
      "provenance": [],
      "authorship_tag": "ABX9TyNWYidk+KFIhkzHc8V8xIBP",
      "include_colab_link": true
    },
    "kernelspec": {
      "name": "python3",
      "display_name": "Python 3"
    },
    "language_info": {
      "name": "python"
    }
  },
  "cells": [
    {
      "cell_type": "markdown",
      "metadata": {
        "id": "view-in-github",
        "colab_type": "text"
      },
      "source": [
        "<a href=\"https://colab.research.google.com/github/santhosh47/Data_Science_and_ML_Tutorial/blob/main/Exploratory_Data_Analysis_With_Pandas_Workbook.ipynb\" target=\"_parent\"><img src=\"https://colab.research.google.com/assets/colab-badge.svg\" alt=\"Open In Colab\"/></a>"
      ]
    },
    {
      "cell_type": "markdown",
      "source": [
        "## Data:\n",
        "\n",
        "Here's a data set of 1,000 most popular movies on IMDB in the last 10 years. The data points included are:\n",
        "\n",
        "Title, Genre, Description, Director, Actors, Year, Runtime, Rating, Votes, Revenue, Metascrore\n",
        "\n",
        "Feel free to tinker with it and derive interesting insights.\n",
        "\n",
        "Get the IMDB Dataset from the following link: [IMDB Dataset](https://www.kaggle.com/datasets/PromptCloudHQ/imdb-data)"
      ],
      "metadata": {
        "id": "Fvo7xgkHAIt8"
      }
    },
    {
      "cell_type": "markdown",
      "source": [
        "As we have a basic understanding of the different data structures in Pandas, let’s explore the fun and interesting ‘IMDB-movies-dataset’ and get our hands dirty by performing practical data analysis on real data.\n",
        "\n",
        "**What’s more fun than performing hands-on data analysis?**\n",
        "\n",
        "So put on your hats as a Data Analyst/ Data Scientist and let’s GET.SET.GO\n",
        "\n",
        "We will read the data from the .csv file and perform the following basic operations on movies data\n",
        "\n",
        "* Read data\n",
        "* View the data\n",
        "* Understand some basic information about the data\n",
        "* Data Selection – Indexing and Slicing data\n",
        "* Data Selection – Based on Conditional filtering\n",
        "* Groupby operations\n",
        "* Sorting operation\n",
        "* Dealing with missing values\n",
        "* Dropping columns and null values\n",
        "* Apply( ) functions"
      ],
      "metadata": {
        "id": "ymDtfZvtA0ID"
      }
    },
    {
      "cell_type": "markdown",
      "source": [
        "# 1. Read data\n",
        "Load data from CSV file."
      ],
      "metadata": {
        "id": "c4K9PfRNBDfP"
      }
    },
    {
      "cell_type": "code",
      "source": [
        "#Your Code Here\n",
        "# Read data from .csv file"
      ],
      "metadata": {
        "id": "VZg5K0C8BCmZ"
      },
      "execution_count": null,
      "outputs": []
    },
    {
      "cell_type": "code",
      "execution_count": null,
      "metadata": {
        "id": "VJs3pSeNACQn"
      },
      "outputs": [],
      "source": [
        "# Read data with specified explicit index - Title.\n",
        "# We will use this later in our analysis"
      ]
    },
    {
      "cell_type": "markdown",
      "source": [
        "# 2. View data\n",
        "Let’s do a quick preview of the data by using head( ) and tail( ) methods\n",
        "\n",
        "## head( ) \n",
        "\n",
        "* Returns the top 5 rows in the dataset by default \n",
        "* It can also take the number of rows to be viewed as a parameter\n",
        "\n",
        "##tail( )\n",
        "\n",
        "* Returns the bottom 5 rows in the dataset by default\n",
        "* It can also take the number of rows as an optional parameter"
      ],
      "metadata": {
        "id": "nlR56XZ2BULZ"
      }
    },
    {
      "cell_type": "code",
      "source": [
        "# Preview top 5 rows using head()"
      ],
      "metadata": {
        "id": "OMv5kyCqBh49"
      },
      "execution_count": null,
      "outputs": []
    },
    {
      "cell_type": "markdown",
      "source": [
        "# 3. Understand basic information about the data\n",
        "\n",
        "Pandas provide many functions to understand the shape, number of columns, indexes, and other information about the dataframe.\n"
      ],
      "metadata": {
        "id": "Boo2RqWFBlA2"
      }
    },
    {
      "cell_type": "code",
      "source": [
        "#Lets first understand the basic information about this data"
      ],
      "metadata": {
        "id": "n3y6TkXWBr_L"
      },
      "execution_count": null,
      "outputs": []
    },
    {
      "cell_type": "code",
      "source": [
        "#Get the shape of the Data"
      ],
      "metadata": {
        "id": "GsIrMIjTBwC2"
      },
      "execution_count": null,
      "outputs": []
    },
    {
      "cell_type": "code",
      "source": [
        "#Get the basic statistical summaries of all numerical attributes in the dataframe."
      ],
      "metadata": {
        "id": "baTSRcvNB0Vx"
      },
      "execution_count": null,
      "outputs": []
    },
    {
      "cell_type": "code",
      "source": [
        "#Write your insights about the data that you have obtained"
      ],
      "metadata": {
        "id": "cAK6jfWlB8bE"
      },
      "execution_count": null,
      "outputs": []
    },
    {
      "cell_type": "markdown",
      "source": [
        "# 4. Data Selection – Indexing and Slicing\n",
        "## Extract data using columns\n",
        "\n",
        "Extracting data from a dataframe is similar to Series. Here the column label is used to extract data from the columns.\n",
        "\n",
        "Let’s quickly extract ‘Genre’ data from the dataframe"
      ],
      "metadata": {
        "id": "V8aP5REdCHT6"
      }
    },
    {
      "cell_type": "code",
      "source": [
        "# Extract data as series"
      ],
      "metadata": {
        "id": "9BUU5HMeCL-t"
      },
      "execution_count": null,
      "outputs": []
    },
    {
      "cell_type": "code",
      "source": [
        "# Extract data as dataframe"
      ],
      "metadata": {
        "id": "dh1MnIXCCOzT"
      },
      "execution_count": null,
      "outputs": []
    },
    {
      "cell_type": "code",
      "source": [
        "# Extract the following columns into a Dataframe - 'Title','Genre','Actors','Director','Rating'"
      ],
      "metadata": {
        "id": "G44_Wwg0CRZh"
      },
      "execution_count": null,
      "outputs": []
    },
    {
      "cell_type": "markdown",
      "source": [
        "## Extract data using rows\n",
        "\n",
        "In the beginning, when we read the data, we created a dataframe with ‘Title’ as the string index."
      ],
      "metadata": {
        "id": "kmyphiRHCZkn"
      }
    },
    {
      "cell_type": "code",
      "source": [
        "# Use the loc function to index and slice that dataframe using the specified ‘Title’."
      ],
      "metadata": {
        "id": "VMtR4A8aCi84"
      },
      "execution_count": null,
      "outputs": []
    },
    {
      "cell_type": "code",
      "source": [
        "# use it to get the following info - 'Genre','Actors','Director','Rating','Revenue (Millions)'"
      ],
      "metadata": {
        "id": "z8CIA8k1Cuxb"
      },
      "execution_count": null,
      "outputs": []
    },
    {
      "cell_type": "code",
      "source": [
        "# use iloc to get a chuck of data"
      ],
      "metadata": {
        "id": "-NTblHq1C3ZF"
      },
      "execution_count": null,
      "outputs": []
    },
    {
      "cell_type": "markdown",
      "source": [
        "# 5. Data Selection – Based on Conditional Filtering\n",
        "Pandas also enable retrieving data from dataframe based on conditional filters.\n",
        "\n",
        "What if we want to pick only movies that are released from 2010 to 2016, have a rating of less than 6.0 but topped in terms of revenue?"
      ],
      "metadata": {
        "id": "FRjZdOfqC007"
      }
    },
    {
      "cell_type": "code",
      "source": [
        "#Your Code Here"
      ],
      "metadata": {
        "id": "B-4A934rDFdD"
      },
      "execution_count": null,
      "outputs": []
    },
    {
      "cell_type": "markdown",
      "source": [
        "# 6. Groupby operation\n",
        "Data can be grouped and operations can be performed on top of grouped data by using the groupby( ) method. \n",
        "\n",
        "This comes in handy when we want to apply aggregations and functions on top of grouped data."
      ],
      "metadata": {
        "id": "1qZne5ocDLQG"
      }
    },
    {
      "cell_type": "code",
      "source": [
        "# Groupby the column - \"Director\" and get the mean data of the top 5 records"
      ],
      "metadata": {
        "id": "w2SrbYzgDTzZ"
      },
      "execution_count": null,
      "outputs": []
    },
    {
      "cell_type": "markdown",
      "source": [
        "# 7. Sorting operation\n",
        "Sorting is yet another pandas operation that is heavily used in data analysis projects.\n",
        "\n",
        "sort_values( ) method is used to perform sorting operation on a column or a list of multiple columns\n",
        "\n",
        "In the above example, where we have listed the average rating for each ‘Director’, if we want to sort them from highly rated to lowest, we can perform the sorting operation."
      ],
      "metadata": {
        "id": "nbcyj1grDgyd"
      }
    },
    {
      "cell_type": "code",
      "source": [
        "#Your Code Here"
      ],
      "metadata": {
        "id": "dVaECfH9DoXV"
      },
      "execution_count": null,
      "outputs": []
    },
    {
      "cell_type": "markdown",
      "source": [
        "# 8. Dealing with missing values\n",
        "Pandas has isnull( ) for detecting null values in a dataframe. Let’s see how to use these methods."
      ],
      "metadata": {
        "id": "ddjknprbDu7P"
      }
    },
    {
      "cell_type": "code",
      "source": [
        "# To check null values row-wise"
      ],
      "metadata": {
        "id": "uBYXEOv2DuLf"
      },
      "execution_count": null,
      "outputs": []
    },
    {
      "cell_type": "markdown",
      "source": [
        "# 9. Dropping columns and null values\n",
        "Dropping columns/rows is yet another operation that is most important for data analysis."
      ],
      "metadata": {
        "id": "md_ZMSDeEAnX"
      }
    },
    {
      "cell_type": "code",
      "source": [
        "#Drop the unwanted column that has null value using drop function\n",
        "#Hint - 'Metascore'"
      ],
      "metadata": {
        "id": "2g1_B_-IEKM3"
      },
      "execution_count": null,
      "outputs": []
    },
    {
      "cell_type": "code",
      "source": [
        "#Drop the unwanted column that has null value using dropna function"
      ],
      "metadata": {
        "id": "B6xWHQ3BEnRK"
      },
      "execution_count": null,
      "outputs": []
    },
    {
      "cell_type": "code",
      "source": [
        "#Drop the unwanted column that has null value using dropna function if the column has more than 6 null values"
      ],
      "metadata": {
        "id": "cVuodvJEEp_X"
      },
      "execution_count": null,
      "outputs": []
    },
    {
      "cell_type": "code",
      "source": [
        "#Fill null values in the column - 'Revenue (Millions)' with mean value and make sure that the modification stands"
      ],
      "metadata": {
        "id": "AOPDgA11E3Dp"
      },
      "execution_count": null,
      "outputs": []
    },
    {
      "cell_type": "markdown",
      "source": [
        "# 10. Apply( ) function\n",
        "The apply( ) function comes in handy when we want to apply any function to the dataset. It returns a value after passing each row of the dataframe to some function. The function can be built-in or user-defined.\n",
        "\n",
        "For example, if we want to classify the movies based on their ratings, we can define a function to do so and then apply the function to the dataframe as shown below."
      ],
      "metadata": {
        "id": "gyyXtoDXFKnT"
      }
    },
    {
      "cell_type": "code",
      "source": [
        "#write a function that will classify movies into groups based on rating."
      ],
      "metadata": {
        "id": "TPQfGdpZFOzo"
      },
      "execution_count": null,
      "outputs": []
    },
    {
      "cell_type": "code",
      "source": [
        "#Apply the above function to our actual dataframe sp that the ‘Rating_category’ will be computed for each row.\n",
        "#display the result of top 5 rows"
      ],
      "metadata": {
        "id": "AGdB5V4oFQLT"
      },
      "execution_count": null,
      "outputs": []
    },
    {
      "cell_type": "markdown",
      "source": [
        "The solution can be found here: [Solution](https://github.com/lakshanagv/Complete-guide-to-data-analysis-using-Python---IMDB-movies-data/blob/dcbee6436bcee85f5a19ecbc090fac71d2a32170/Quick%20guide%20to%20Data%20Analysis%20using%20Pandas.ipynb)"
      ],
      "metadata": {
        "id": "0C33-ovCFvCq"
      }
    },
    {
      "cell_type": "markdown",
      "source": [
        "Another good example with additional usage of Pandas's Functionalities could be found here : [EDA on Customer Churn Data](https://www.kaggle.com/code/kashnitsky/topic-1-exploratory-data-analysis-with-pandas)"
      ],
      "metadata": {
        "id": "_H3bKBWjG_hw"
      }
    }
  ]
}