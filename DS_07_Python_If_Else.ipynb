{
  "nbformat": 4,
  "nbformat_minor": 0,
  "metadata": {
    "colab": {
      "provenance": [],
      "authorship_tag": "ABX9TyNuCe5+8m82eIbuZrGkzU7Y",
      "include_colab_link": true
    },
    "kernelspec": {
      "name": "python3",
      "display_name": "Python 3"
    },
    "language_info": {
      "name": "python"
    }
  },
  "cells": [
    {
      "cell_type": "markdown",
      "metadata": {
        "id": "view-in-github",
        "colab_type": "text"
      },
      "source": [
        "<a href=\"https://colab.research.google.com/github/santhosh47/Data_Science_and_ML_Tutorial/blob/main/DS_07_Python_If_Else.ipynb\" target=\"_parent\"><img src=\"https://colab.research.google.com/assets/colab-badge.svg\" alt=\"Open In Colab\"/></a>"
      ]
    },
    {
      "cell_type": "markdown",
      "source": [
        "#Python if Statement\n",
        "##The simple Python if statement\n",
        "You use the if statement to execute a block of code based on a specified condition.\n",
        "\n",
        "The syntax of the if statement is as follows:"
      ],
      "metadata": {
        "id": "9mlnHSds_KCe"
      }
    },
    {
      "cell_type": "code",
      "execution_count": null,
      "metadata": {
        "id": "TbecXqPm9j9B"
      },
      "outputs": [],
      "source": [
        "if condition:\n",
        "    if-block"
      ]
    },
    {
      "cell_type": "markdown",
      "source": [
        "The if statement checks the condition first.\n",
        "\n",
        "If the condition evaluates to True, it executes the statements in the if-block. Otherwise, it ignores the statements.\n",
        "\n",
        "Note that the colon (:) that follows the condition is very important. If you forget it, you’ll get a syntax error.\n",
        "\n",
        "<center>\n",
        "<img src='https://www.pythontutorial.net/wp-content/uploads/2020/10/Python-if-Statement.png' />\n"
      ],
      "metadata": {
        "id": "US61f7dF_wkp"
      }
    },
    {
      "cell_type": "code",
      "source": [
        "age = input('Enter your age:')\n",
        "if int(age) >= 18:\n",
        "    print(\"You're eligible to vote.\")"
      ],
      "metadata": {
        "id": "-1G1AIS6AABY"
      },
      "execution_count": null,
      "outputs": []
    },
    {
      "cell_type": "markdown",
      "source": [
        "This example prompts you to input your age. If you enter a number that is greater than or equal to 18, it’ll show a message \"You're eligible to vote\" on the screen. Otherwise, it does nothing.\n",
        "\n",
        "The condition int(age) >= 18 converts the input string to an integer and compares it with 18"
      ],
      "metadata": {
        "id": "Kmn12T8vAElj"
      }
    },
    {
      "cell_type": "code",
      "source": [
        "age = input('Enter your age:')\n",
        "if int(age) >= 18:\n",
        "    print(\"You're eligible to vote.\")\n",
        "    print(\"Let's go and vote.\")"
      ],
      "metadata": {
        "id": "2LYupWUJALIm"
      },
      "execution_count": null,
      "outputs": []
    },
    {
      "cell_type": "markdown",
      "source": [
        "## Python if…else statement\n",
        "Typically, you want to perform an action when a condition is True and another action when the condition is False.\n",
        "\n",
        "To do so, you use the if...else statement.\n",
        "\n",
        "The following shows the syntax of the if...else statement:"
      ],
      "metadata": {
        "id": "ttCXOiTlAOUM"
      }
    },
    {
      "cell_type": "code",
      "source": [
        "if condition:\n",
        "    if-block;\n",
        "else:\n",
        "    else-block;"
      ],
      "metadata": {
        "id": "vTf8_KOfARWO"
      },
      "execution_count": null,
      "outputs": []
    },
    {
      "cell_type": "markdown",
      "source": [
        "In this syntax, the if...else will execute the if-block if the condition evaluates to True. Otherwise, it’ll execute the else-block.\n",
        "\n",
        "<center>\n",
        "<img src='https://www.pythontutorial.net/wp-content/uploads/2020/10/Python-if-else-statement.png' />"
      ],
      "metadata": {
        "id": "ZmMgxzZpATrC"
      }
    },
    {
      "cell_type": "code",
      "source": [
        "age = input('Enter your age:')\n",
        "if int(age) >= 18:\n",
        "    print(\"You're eligible to vote.\")\n",
        "else:\n",
        "    print(\"You're not eligible to vote.\")"
      ],
      "metadata": {
        "id": "gjPR9UCACJtp"
      },
      "execution_count": null,
      "outputs": []
    },
    {
      "cell_type": "markdown",
      "source": [
        "##Python if…elif…else statement\n",
        "\n",
        "If you want to check multiple conditions and perform an action accordingly, you can use the if...elif...else statement. The elif stands for else if.\n",
        "\n",
        "Here is the syntax if the if...elif...else statement:"
      ],
      "metadata": {
        "id": "24YpLSTAAYBs"
      }
    },
    {
      "cell_type": "code",
      "source": [
        "if if-condition:\n",
        "    if-block\n",
        "elif elif-condition1:\n",
        "    elif-block1\n",
        "elif elif-condition2:\n",
        "    elif-block2\n",
        "...\n",
        "else:\n",
        "    else-block"
      ],
      "metadata": {
        "id": "lsknAa78CUqa"
      },
      "execution_count": null,
      "outputs": []
    },
    {
      "cell_type": "markdown",
      "source": [
        "The if...elif...else statement checks each condition (if-condition, elif-condition1, elif-condition2, …) in the order that they appear in the statement until it finds the one that evaluates to True.\n",
        "\n",
        "\n",
        "When the if...elif...else statement finds one, it executes the statement that follows the condition and skips testing the remaining conditions.\n",
        "\n",
        "If no condition evaluates to True, the if...elif...else statement executes the statement in the else branch.\n",
        "\n",
        "Note that the else block is optional. If you omit it and no condition is True, the statement does nothing.\n",
        "\n",
        "The following flowchart illustrates the if...elif...else statement:\n",
        "\n",
        "<center>\n",
        "<img src='https://www.pythontutorial.net/wp-content/uploads/2020/10/Python-if-elif-else-statement.png' />"
      ],
      "metadata": {
        "id": "s2wPu4_RCXjZ"
      }
    },
    {
      "cell_type": "code",
      "source": [
        "age = input('Enter your age:')\n",
        "\n",
        "# convert the string to int\n",
        "your_age = int(age)\n",
        "\n",
        "# determine the ticket price\n",
        "if your_age < 5:\n",
        "    ticket_price = 5\n",
        "elif your_age < 16:\n",
        "    ticket_price = 10\n",
        "else:\n",
        "    ticket_price = 18\n",
        "\n",
        "# show the ticket price\n",
        "print(f\"You'll pay ${ticket_price} for the ticket\")\n"
      ],
      "metadata": {
        "id": "ByhGM2tmCihK"
      },
      "execution_count": null,
      "outputs": []
    },
    {
      "cell_type": "markdown",
      "source": [
        "##One-Line if Statements\n",
        "\n",
        "It is customary to write if <expr> on one line and <statement> indented on the following line like this:\n",
        "\n"
      ],
      "metadata": {
        "id": "51RCEdVhCtrS"
      }
    },
    {
      "cell_type": "code",
      "source": [
        "if <expr>:\n",
        "    <statement>"
      ],
      "metadata": {
        "id": "r_g2FAEyC2mV"
      },
      "execution_count": null,
      "outputs": []
    },
    {
      "cell_type": "markdown",
      "source": [
        "But it is permissible to write an entire if statement on one line. The following is functionally equivalent to the example above:"
      ],
      "metadata": {
        "id": "tGV3NiFUC3E0"
      }
    },
    {
      "cell_type": "code",
      "source": [
        "if <expr>: <statement>"
      ],
      "metadata": {
        "id": "grfMYLM6C4j1"
      },
      "execution_count": null,
      "outputs": []
    },
    {
      "cell_type": "markdown",
      "source": [
        "There can even be more than one <statement> on the same line, separated by semicolons:"
      ],
      "metadata": {
        "id": "smlJPHDrC8V1"
      }
    },
    {
      "cell_type": "code",
      "source": [
        "if <expr>: <statement_1>; <statement_2>; ...; <statement_n>"
      ],
      "metadata": {
        "id": "_g24uSwSC-HU"
      },
      "execution_count": null,
      "outputs": []
    },
    {
      "cell_type": "markdown",
      "source": [
        "But what does this mean? There are two possible interpretations:\n",
        "\n",
        "If <expr> is true, execute <statement_1>.\n",
        "\n",
        "* Then, execute <statement_2> ... <statement_n> unconditionally, irrespective of whether <expr> is true or not.\n",
        "\n",
        "* If <expr> is true, execute all of <statement_1> ... <statement_n>. Otherwise, don’t execute any of them.\n",
        "\n",
        "Python takes the latter interpretation. The semicolon separating the <statements> has higher precedence than the colon following <expr>—in computer lingo, the semicolon is said to bind more tightly than the colon. Thus, the <statements> are treated as a suite, and either all of them are executed, or none of them are:"
      ],
      "metadata": {
        "id": "efAhWaePDA76"
      }
    },
    {
      "cell_type": "code",
      "source": [
        "if 'f' in 'foo': print('1'); print('2'); print('3')"
      ],
      "metadata": {
        "id": "XoQC6ERwDIYE"
      },
      "execution_count": null,
      "outputs": []
    },
    {
      "cell_type": "code",
      "source": [
        "if 'z' in 'foo': print('1'); print('2'); print('3')"
      ],
      "metadata": {
        "id": "NiCPg2c0DLXD"
      },
      "execution_count": null,
      "outputs": []
    },
    {
      "cell_type": "markdown",
      "source": [
        "In its simplest form, the syntax of the conditional expression is as follows:"
      ],
      "metadata": {
        "id": "NU8GfQihDcRp"
      }
    },
    {
      "cell_type": "code",
      "source": [
        "<expr1> if <conditional_expr> else <expr2>"
      ],
      "metadata": {
        "id": "KGY-OHz0Da4Z"
      },
      "execution_count": null,
      "outputs": []
    },
    {
      "cell_type": "markdown",
      "source": [
        "### The ternary operator\n",
        "The ternary operator evaluates the condition. If the result is True, it returns the value_if_true. Otherwise, it returns the value_if_false."
      ],
      "metadata": {
        "id": "1Dz6ObadH-Yj"
      }
    },
    {
      "cell_type": "code",
      "source": [
        "value_if_true if condition else value_if_false"
      ],
      "metadata": {
        "id": "rLdsaLuaH8ur"
      },
      "execution_count": null,
      "outputs": []
    },
    {
      "cell_type": "code",
      "source": [
        "raining = False\n",
        "print(\"Let's go to the\", 'beach' if not raining else 'library')"
      ],
      "metadata": {
        "id": "fMH8XaSjDf8z"
      },
      "execution_count": null,
      "outputs": []
    },
    {
      "cell_type": "code",
      "source": [
        " m = a if a > b else b"
      ],
      "metadata": {
        "id": "cu1GzECZDoC0"
      },
      "execution_count": null,
      "outputs": []
    },
    {
      "cell_type": "code",
      "source": [
        "x = y = 40\n",
        "z = 1 + x if x > y else y + 2\n",
        "z"
      ],
      "metadata": {
        "colab": {
          "base_uri": "https://localhost:8080/"
        },
        "id": "RtQGtlhtDu7X",
        "outputId": "7dbc99d3-4ee1-42a7-8475-db1fcb686008"
      },
      "execution_count": null,
      "outputs": [
        {
          "output_type": "execute_result",
          "data": {
            "text/plain": [
              "42"
            ]
          },
          "metadata": {},
          "execution_count": 4
        }
      ]
    },
    {
      "cell_type": "code",
      "source": [
        "num = 10\n",
        "if (num < 0): print(\"Number is smaller than Zero\")\n",
        "elif (num > 0): print(\"Number is greater than Zero\")\n",
        "else: print(\"Number is Zero\")"
      ],
      "metadata": {
        "id": "i_NNpDCQF7Eq"
      },
      "execution_count": null,
      "outputs": []
    }
  ]
}