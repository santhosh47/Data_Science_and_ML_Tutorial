{
  "nbformat": 4,
  "nbformat_minor": 0,
  "metadata": {
    "colab": {
      "provenance": [],
      "authorship_tag": "ABX9TyOzLZlHd6w6lb8IXD26osOC",
      "include_colab_link": true
    },
    "kernelspec": {
      "name": "python3",
      "display_name": "Python 3"
    },
    "language_info": {
      "name": "python"
    }
  },
  "cells": [
    {
      "cell_type": "markdown",
      "metadata": {
        "id": "view-in-github",
        "colab_type": "text"
      },
      "source": [
        "<a href=\"https://colab.research.google.com/github/santhosh47/Data_Science_and_ML_Tutorial/blob/main/DS_27_Margin_Of_Error.ipynb\" target=\"_parent\"><img src=\"https://colab.research.google.com/assets/colab-badge.svg\" alt=\"Open In Colab\"/></a>"
      ]
    },
    {
      "cell_type": "markdown",
      "source": [
        "##**Margin of Error:**\n",
        "\n",
        "A margin of error typically refers to a range within which an unknown parameter is estimated to fall, given the variation that can arise from one sample to another. \n",
        "\n",
        "For example, in an opinion survey based on a randomly-drawn sample from a larger population results are usually stated along with a margin of error, also called a confidence interval, that (say) 95% of the time will include the \"true\" value (i.e. the value you would get by surveying the entire population).\n",
        "\n",
        "It is important to note that most margins of error assume that the sample is drawn randomly; if the sample is not drawn randomly the estimate based on the sample will likely be in error more often than the nominal level of confidence (typically 90%, 95% or 99%)."
      ],
      "metadata": {
        "id": "pFHh6HqseV7Q"
      }
    },
    {
      "cell_type": "markdown",
      "source": [
        "So basically, the confidence intervals\n",
        "could be summarized as follows.\n",
        "\n",
        "#**The true population mean falls in the interval defined by the sample mean plus minus the margin of error.**"
      ],
      "metadata": {
        "id": "1hLFELn_fvQl"
      }
    },
    {
      "cell_type": "markdown",
      "source": [
        "Getting a smaller margin of error means\n",
        "that the confidence interval would be narrower.\n",
        "\n",
        "As we want a better prediction, it is in our interest\n",
        "to have the narrowest possible confidence interval.\n",
        "\n",
        "The best part is that we can control the margin of error.\n",
        "\n",
        "Let's see it's parts.\n",
        "\n",
        "* There is a statistic, \n",
        "* a standard deviation\n",
        "\n",
        "* and the sample size.\n",
        "\n",
        "The statistic and the standard deviation\n",
        "are in the numerator, so smaller statistics and\n",
        "smaller standard deviations will reduce the margin of error.\n",
        "\n",
        "**How do we do that?**\n",
        "\n",
        "A higher level of confidence increases the statistic.\n",
        "A higher statistic means a higher margin of error.\n",
        "This leads to a wider confidence interval.\n",
        "\n",
        "**Think about this example.**\n",
        "\n",
        "You took an exam and you wanna make a prediction\n",
        "about the mean grade obtained by all exam takers\n",
        "as A, B, C, D, and F are all the possible grades.\n",
        "\n",
        "We are 100% confident that the mean grade will be\n",
        "in the confidence interval from F to A.\n",
        "Now, if we lower the confidence level to 99%,\n",
        "we may end up with a confidence interval\n",
        "from F+ to A-.\n",
        "\n",
        "Remember, the interpretation in 99% of the cases\n",
        "the population mean falls in the interval.\n",
        "So with a 50% confidence level, in 50% of the cases\n",
        "the true mean will fall in the specified interval.\n",
        "\n",
        "The only scenario under which this is possible is\n",
        "if the interval is narrower.\n",
        "Therefore, if the standard deviation\n",
        "and the sample size are kept constant,\n",
        "a lower confidence level results in a narrower interval.\n",
        "\n",
        "What about the standard deviation?\n",
        "\n",
        "That's easy.\n",
        "\n",
        "A lower standard deviation means\n",
        "that the data set is more concentrated around the mean,\n",
        "so we have a better chance to get it right.\n",
        "\n",
        "For instance, the mean grade in your class is B,\n",
        "and you know that there were people with\n",
        "As, Bs, Cs, Ds, and a few Fs.\n",
        "How likely is it that you got a B?\n",
        "\n",
        "Now, compare this to a situation when the teacher said\n",
        "\"The mean of the class is around B\n",
        "and the lowest grade is C.\"\n",
        "\n",
        "In this case, you are much more likely to get a B right?\n",
        "In the first case, the grades are dispersed\n",
        "while in the second they are concentrated.\n",
        "Lastly, we have the sample size in the denominator.\n",
        "Higher sample sizes will decrease the margin of error.\n",
        "This is also quite intuitive.\n",
        "The more observations you have in your sample\n",
        "the more certain you are in the prediction.\n",
        "This time you have a B+.\n",
        "There are 30 people in the class,\n",
        "and you wanna know if you performed above the average.\n",
        "You ask three of your friends\n",
        "and they all got As.\n",
        "Your sample of three people\n",
        "leads you to think you underperformed.\n",
        "\n",
        "You get frustrated and start asking around some more.\n",
        "The next five people you ask got Ds.\n",
        "Now you have a sample of eight people,\n",
        "and it seems you did quite well.\n",
        "After asking everyone in class,\n",
        "the whole population that is,\n",
        "you find out that the mean grade is B.\n",
        "You are above average by a small margin.\n",
        "The conclusion is that the more observations there are\n",
        "in the sample, the higher the chances of getting a good idea\n",
        "about the true mean of the entire population"
      ],
      "metadata": {
        "id": "fdTEdSlrf9K0"
      }
    },
    {
      "cell_type": "markdown",
      "source": [],
      "metadata": {
        "id": "wBCOh2iAeV0b"
      }
    }
  ]
}