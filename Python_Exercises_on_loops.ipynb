{
  "cells": [
    {
      "cell_type": "markdown",
      "metadata": {
        "id": "view-in-github",
        "colab_type": "text"
      },
      "source": [
        "<a href=\"https://colab.research.google.com/github/santhosh47/Data_Science_and_ML_Tutorial/blob/main/Python_Exercises_on_loops.ipynb\" target=\"_parent\"><img src=\"https://colab.research.google.com/assets/colab-badge.svg\" alt=\"Open In Colab\"/></a>"
      ]
    },
    {
      "cell_type": "markdown",
      "source": [
        "Sure, here is an IPython notebook with 10 exercises on loops:"
      ],
      "metadata": {
        "id": "yHbIBJCc9gQO"
      }
    },
    {
      "cell_type": "code",
      "source": [
        "# Exercise 1: Write a for loop that prints the numbers from 1 to 10.\n",
        "\n",
        "\n"
      ],
      "outputs": [],
      "execution_count": null,
      "metadata": {
        "id": "yQ9x5p5f9gQR"
      }
    },
    {
      "cell_type": "code",
      "source": [
        "# Exercise 2: Write a for loop that prints the even numbers from 2 to 20.\n",
        "\n",
        "\n"
      ],
      "metadata": {
        "id": "8gCHWuEo-SO0"
      },
      "execution_count": null,
      "outputs": []
    },
    {
      "cell_type": "code",
      "source": [
        "# Exercise 3: Write a for loop that prints the Fibonacci sequence up to 10.\n",
        "\n",
        "\n",
        "\n"
      ],
      "metadata": {
        "id": "6fHh1w8M-UMB"
      },
      "execution_count": null,
      "outputs": []
    },
    {
      "cell_type": "code",
      "source": [
        "# Exercise 4: Write a for loop that prints the squares of the numbers from 1 to 10.\n",
        "\n",
        "\n",
        "\n"
      ],
      "metadata": {
        "id": "x4FBS6JR-WFM"
      },
      "execution_count": null,
      "outputs": []
    },
    {
      "cell_type": "code",
      "source": [
        "# Exercise 5: Write a for loop that prints the cubes of the numbers from 1 to 10.\n",
        "\n",
        "\n"
      ],
      "metadata": {
        "id": "CJ6RNspp-YCo"
      },
      "execution_count": null,
      "outputs": []
    },
    {
      "cell_type": "code",
      "source": [
        "# Exercise 6: Write a for loop that prints the factorial of the numbers from 1 to 5.\n",
        "\n",
        "\n",
        "\n"
      ],
      "metadata": {
        "id": "cxafcjFS-ZLU"
      },
      "execution_count": null,
      "outputs": []
    },
    {
      "cell_type": "code",
      "source": [
        "# Exercise 7: Write a for loop that prints the sum of the even numbers from 2 to 20.\n",
        "\n",
        "\n"
      ],
      "metadata": {
        "id": "quJvaEcD-bAj"
      },
      "execution_count": null,
      "outputs": []
    },
    {
      "cell_type": "code",
      "source": [
        "# Exercise 8: Write a for loop that prints the first 10 positive integers that are not divisible by 3.\n",
        "\n",
        "\n"
      ],
      "metadata": {
        "id": "ZzWNhlE3-cJO"
      },
      "execution_count": null,
      "outputs": []
    },
    {
      "cell_type": "code",
      "source": [
        "# Exercise 9: Write a for loop that prints the prime numbers from 2 to 100.\n",
        "\n",
        "\n"
      ],
      "metadata": {
        "id": "AzwM-0O0-dwy"
      },
      "execution_count": null,
      "outputs": []
    },
    {
      "cell_type": "code",
      "source": [
        "# Exercise 10: Write a for loop that prints the Fibonacci sequence up to the first 100 terms.\n"
      ],
      "metadata": {
        "id": "prhDYjnP-e4b"
      },
      "execution_count": null,
      "outputs": []
    }
  ],
  "metadata": {
    "colab": {
      "provenance": [],
      "include_colab_link": true
    },
    "kernelspec": {
      "display_name": "Python 3",
      "name": "python3"
    }
  },
  "nbformat": 4,
  "nbformat_minor": 0
}