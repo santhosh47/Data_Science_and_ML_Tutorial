{
  "nbformat": 4,
  "nbformat_minor": 0,
  "metadata": {
    "colab": {
      "provenance": [],
      "collapsed_sections": []
    },
    "kernelspec": {
      "name": "python3",
      "display_name": "Python 3"
    },
    "language_info": {
      "name": "python"
    }
  },
  "cells": [
    {
      "cell_type": "markdown",
      "source": [
        "## What is Data Science?\n",
        "### Data:\n",
        "Data is the basis of all\n",
        "Initially Data was just in sheets, then came the spreadsheets, then SQL where a bunch of data can be handled and meaning ful inshights could be brough about from that data. \n",
        "\n",
        "In 2000 along with the boom of internet came the boom of data. Lot of new companies that dependent on internet emerged and along with cam the data they accumulated. This inturn let to the term **Big Data** \n",
        "\n",
        "Now came the unstructured data which is different from the structured data eg. vIdeos and images\n",
        "\n",
        "Inorder to support such data there came technologies like Mongo DB which can store unstructured Data easily\n",
        "\n",
        "Here came the need to look into all the data that accumulated over a period and we needed tools to analysis and come to solid and plausible conclusions\n",
        "\n",
        "This gave rise to the field of Data Science where we look, analyse, manipulate, get insights and predict using Data\n",
        "eg. Slaes of Ice cream in diffrent seasons\n",
        "\n",
        "Data science looks at on how to use this massive quantity of Data that is useless to usefull.\n",
        "\n",
        "So a data scientist is one who turns data that initially remains useless to usefull.\n",
        "\n",
        "## What is Machine Learning?\n",
        "But what if there are millions and millions of data to look at?\n",
        "\n",
        "**The amount of data is doubling every two years.**\n",
        "\n",
        "there came the possibility of using machined to look into such data and come to useful conclusions and decisions for us.\n",
        "\n",
        "For this we needed to teach the machines on how to look at a data, how to get insights from it, how to apply regular mathematics and statistics to it and how to reach a conslusion... this area of teaching the machines to look at and into the data is called Machine Learning\n",
        "\n",
        "https://teachablemachine.withgoogle.com/\n",
        "\n",
        "A machine needs millions of data to learn what is what. Just like us\n",
        "\n",
        "## What is Deep Learning?\n",
        "Over a period of Time machine learning became popular because it was rather simple. But performing complex task with it was becoming a nightmare. So again there was a need for a new technology that could enable the machines to learn complex stuff easily.\n",
        "\n",
        "What else is more complex than our own Brain? So smart people all over the world came to gether and started to model our brain and use its complex networking structure and tried emulate it in a machine and guess what? It worked! It worked wonders!!!\n",
        "\n",
        "All the mordern day miracles such as Alexa, Siri, automatic image filters, image recognition, voice recognition, voice to text and vice versa is the result of this new born technology.\n",
        "\n",
        "Since this enabled the machine to learn deeply this was named as Deep Learning. And most of the stuff that was done in Machine Learning was now taken care by the machine itself. That is in Machine Learning we were to teach the machine on how to learn and what to learn but in deep learning we create a teeny tiny brain using which the machine starts learning by itself as a infant does.\n",
        "\n",
        "\n",
        "## What is AI?\n",
        "AI is just machine trying to become human. I am not kidding that is the general simplistic defenition of an AI. So we already have created a brain and even helped it to learn so both machine learning and Deep Learning comes under the unbrella of AI.\n",
        "\n",
        "\n",
        "## What is Data Analytics?\n",
        "Analytics is the discovery and communication of meaningful patterns in data. Especially, valuable in areas rich with recorded information, analytics relies on the simultaneous application of statistics, computer programming, and operation research to qualify performance. Analytics often favors data visualization to communicate insight. \n",
        "\n",
        "There are four types of data analytics: \n",
        "\n",
        "  1. Predictive (forecasting)\n",
        "  2. Descriptive (business intelligence and data mining)\n",
        "  3. Prescriptive (optimization and simulation)\n",
        "  4. Diagnostic analytics\n",
        "\n",
        "**Predictive Analytics:** Predictive analytics turn the data into valuable, actionable information. predictive analytics uses data to determine the probable outcome of an event or a likelihood of a situation occurring. \n",
        "\n",
        " Techniques that are used for predictive analytics are: \n",
        "\n",
        "1. Linear Regression\n",
        "2. Time series analysis and forecasting\n",
        "3. Data Mining\n",
        "\n",
        "**Descriptive Analytics:** Descriptive analytics looks at data and analyze past event for insight as to how to approach future events. It looks at the past performance and understands the performance by mining historical data to understand the cause of success or failure in the past. Almost all management reporting such as sales, marketing, operations, and finance uses this type of analysis. \n",
        "\n",
        "The descriptive model quantifies relationships in data in a way that is often used to classify customers or prospects into groups. Unlike a predictive model that focuses on predicting the behavior of a single customer, Descriptive analytics identifies many different relationships between customer and product.\n",
        "\n",
        "Common examples of Descriptive analytics are company reports that provide historic reviews like: \n",
        "\n",
        "1. Data Queries\n",
        "2. Reports\n",
        "3. Descriptive Statistics\n",
        "4. Data dashboard\n",
        "\n",
        "**Prescriptive Analytics**: Prescriptive Analytics automatically synthesize big data, mathematical science, business rule, and machine learning to make a prediction and then suggests a decision option to take advantage of the prediction. \n",
        "\n",
        "Prescriptive analytics goes beyond predicting future outcomes by also suggesting action benefit from the predictions and showing the decision maker the implication of each decision option. Prescriptive Analytics not only anticipates what will happen and when to happen but also why it will happen.\n",
        "\n",
        "\n",
        "**Diagnostic Analytics:** In this analysis, we generally use historical data over other data to answer any question or for the solution of any problem. We try to find any dependency and pattern in the historical data of the particular problem. "
      ],
      "metadata": {
        "id": "y7s3XlLYWBha"
      }
    },
    {
      "cell_type": "markdown",
      "source": [
        "## Let us create Something Fun!\n",
        "\n",
        "Go to this URL - https://ml-playground.com/\n",
        "We are going to create a YouTube Recommender system. That is we are going to create automatic video recommendation like YouTube does, which again is using Machine learning and AI.\n",
        "\n",
        "\n",
        "y-axis represents the Length of the video\n",
        "\n",
        "x-axis represents the likes of the video\n",
        "\n",
        "lets take the data of a single user and how machine looks at the data.",
        "\n",
        "Lets plot the red dots and consider them as the videos liked by the user and plot the purple dots as videos disliked by a user.",
        "\n",
        "Now if you click Train model the display shows how the machine looks at the data points after its being taught how to learn them. The options on the right side are the model on which we train our machine to learn"
      ],
      "metadata": {
        "id": "PaGM6ju3pMYB"
      }
    },
    {
      "cell_type": "code",
      "execution_count": null,
      "metadata": {
        "id": "CnH_dWIRVzJB"
      },
      "outputs": [],
      "source": []
    },
    {
      "cell_type": "code",
      "source": [],
      "metadata": {
        "id": "CuJ7e6AbV4NZ"
      },
      "execution_count": null,
      "outputs": []
    }
  ]
}
