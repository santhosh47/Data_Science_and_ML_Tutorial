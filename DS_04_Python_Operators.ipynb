{
  "nbformat": 4,
  "nbformat_minor": 0,
  "metadata": {
    "colab": {
      "provenance": [],
      "authorship_tag": "ABX9TyMUomPDKg+0WJ+i7rMM60X9",
      "include_colab_link": true
    },
    "kernelspec": {
      "name": "python3",
      "display_name": "Python 3"
    },
    "language_info": {
      "name": "python"
    }
  },
  "cells": [
    {
      "cell_type": "markdown",
      "metadata": {
        "id": "view-in-github",
        "colab_type": "text"
      },
      "source": [
        "<a href=\"https://colab.research.google.com/github/santhosh47/Data_Science_and_ML_Tutorial/blob/main/DS_04_Python_Operators.ipynb\" target=\"_parent\"><img src=\"https://colab.research.google.com/assets/colab-badge.svg\" alt=\"Open In Colab\"/></a>"
      ]
    },
    {
      "cell_type": "markdown",
      "source": [
        "# Python Operators\n",
        "\n",
        "Python has seven types of operators that we can use to perform different operation and produce a result.\n",
        "\n",
        "* Arithmetic operator\n",
        "* Relational operators\n",
        "* Assignment operators\n",
        "* Logical operators\n",
        "* Membership operators\n",
        "* Identity operators\n",
        "* Bitwise operators"
      ],
      "metadata": {
        "id": "alpQxQzw9JLx"
      }
    },
    {
      "cell_type": "markdown",
      "source": [
        "# Arithmetic operator\n",
        "\n",
        "There are seven arithmetic operators we can use to perform different mathematical operations, such as:\n",
        "\n",
        "* '+' (Addition)\n",
        "* \"-' (Subtraction)\n",
        "* \"*\" (Multiplication)\n",
        "* '/' (Division)\n",
        "* '//' Floor division)\n",
        "* '℅' (Modulus)\n",
        "* '**' (Exponentiation)"
      ],
      "metadata": {
        "id": "-eV2ZVew9dWR"
      }
    },
    {
      "cell_type": "markdown",
      "source": [
        "# Addition operator +"
      ],
      "metadata": {
        "id": "NKuWYTZu98l7"
      }
    },
    {
      "cell_type": "code",
      "execution_count": null,
      "metadata": {
        "id": "5GeJA2IJ84X-"
      },
      "outputs": [],
      "source": [
        "x = 10\n",
        "y = 40\n",
        "print(x + y)\n",
        "# Output 50"
      ]
    },
    {
      "cell_type": "code",
      "source": [
        "name = \"Kelly\"\n",
        "surname = \"Ault\"\n",
        "print(surname + \" \" + name)\n",
        "# Output Ault Kelly"
      ],
      "metadata": {
        "id": "Pis99mWs92lo"
      },
      "execution_count": null,
      "outputs": []
    },
    {
      "cell_type": "markdown",
      "source": [
        "# Subtraction -"
      ],
      "metadata": {
        "id": "AMo16vj09__4"
      }
    },
    {
      "cell_type": "code",
      "source": [
        "x = 10\n",
        "y = 40\n",
        "print(y - x)\n",
        "# Output 30"
      ],
      "metadata": {
        "id": "3dm6MRMc-EZA"
      },
      "execution_count": null,
      "outputs": []
    },
    {
      "cell_type": "markdown",
      "source": [
        "# Multiplication *"
      ],
      "metadata": {
        "id": "3Vn0lvUB-GqD"
      }
    },
    {
      "cell_type": "code",
      "source": [
        "x = 2\n",
        "y = 4\n",
        "z = 5\n",
        "print(x * y)\n",
        "# Output 8 (2*4)\n",
        "print(x * y * z)\n",
        "# Output 40 (2*4*5)"
      ],
      "metadata": {
        "id": "wynNFGZy-JES"
      },
      "execution_count": null,
      "outputs": []
    },
    {
      "cell_type": "code",
      "source": [
        "name = \"Jessa\"\n",
        "print(name * 3)\n",
        "# Output JessaJessaJessa"
      ],
      "metadata": {
        "id": "MSy-DKnW-M-Z"
      },
      "execution_count": null,
      "outputs": []
    },
    {
      "cell_type": "markdown",
      "source": [
        "# Division /"
      ],
      "metadata": {
        "id": "4ghde8LG-P9d"
      }
    },
    {
      "cell_type": "code",
      "source": [
        "x = 2\n",
        "y = 4\n",
        "z = 8\n",
        "print(y / x)\n",
        "# Output 2.0\n",
        "print(z / y / x)\n",
        "# Output 1.0\n",
        "# print(z / 0)  # error"
      ],
      "metadata": {
        "id": "RZzbS3UW-RmL"
      },
      "execution_count": null,
      "outputs": []
    },
    {
      "cell_type": "markdown",
      "source": [
        "# Floor division //"
      ],
      "metadata": {
        "id": "N6PMkyI0-Xhg"
      }
    },
    {
      "cell_type": "code",
      "source": [
        "x = 2\n",
        "y = 4\n",
        "z = 2.2\n",
        "\n",
        "# normal division\n",
        "print(y / x)\n",
        "# Output 2.0\n",
        "\n",
        "# floor division to get result as integer\n",
        "print(y // x)\n",
        "# Output 2\n",
        "\n",
        "# normal division\n",
        "print(y / z)  # 1.81\n",
        "\n",
        "# floor division.\n",
        "# Result as float because one argument is float\n",
        "print(y // z)  # 1.0"
      ],
      "metadata": {
        "id": "kWL1pfQZ-eL1"
      },
      "execution_count": null,
      "outputs": []
    },
    {
      "cell_type": "markdown",
      "source": [
        "# Modulus ℅"
      ],
      "metadata": {
        "id": "0Lbf5lO2-dl4"
      }
    },
    {
      "cell_type": "code",
      "source": [
        "x = 15\n",
        "y = 4\n",
        "\n",
        "print(x % y)\n",
        "# Output 3"
      ],
      "metadata": {
        "id": "LM4Yp1Kg-iWc"
      },
      "execution_count": null,
      "outputs": []
    },
    {
      "cell_type": "markdown",
      "source": [
        "# Exponent **"
      ],
      "metadata": {
        "id": "SO4uVjdw-mdz"
      }
    },
    {
      "cell_type": "code",
      "source": [
        "num = 2\n",
        "# 2*2\n",
        "print(num ** 2) \n",
        "# Output 4\n",
        "\n",
        "# 2*2*2\n",
        "print(num ** 3)\n",
        "# Output 8"
      ],
      "metadata": {
        "id": "YZbp9w4i-lcs"
      },
      "execution_count": null,
      "outputs": []
    },
    {
      "cell_type": "markdown",
      "source": [
        "# Relational (comparison) operators"
      ],
      "metadata": {
        "id": "R1DQC_hF-wNw"
      }
    },
    {
      "cell_type": "code",
      "source": [
        " = 10\n",
        "y = 5\n",
        "z = 2\n",
        "\n"
      ],
      "metadata": {
        "id": "iBpSR2bL-1Ho"
      },
      "execution_count": null,
      "outputs": []
    },
    {
      "cell_type": "code",
      "source": [
        "# > Greater than\n",
        "print(x > y)  # True\n",
        "print(x > y > z)  # True\n"
      ],
      "metadata": {
        "id": "_IIPuN5U_DUG"
      },
      "execution_count": null,
      "outputs": []
    },
    {
      "cell_type": "code",
      "source": [
        "\n",
        "# < Less than\n",
        "print(x < y)  # False\n",
        "print(y < x)  # True\n"
      ],
      "metadata": {
        "id": "I5RmHq1i_FEB"
      },
      "execution_count": null,
      "outputs": []
    },
    {
      "cell_type": "code",
      "source": [
        "\n",
        "# Equal to \n",
        "print(x == y)  # False \n",
        "print(x == 10)  # True \n"
      ],
      "metadata": {
        "id": "lJX6f2HC_GrT"
      },
      "execution_count": null,
      "outputs": []
    },
    {
      "cell_type": "code",
      "source": [
        "\n",
        "# != Not Equal to \n",
        "print(x != y)  # True \n",
        "print(10 != x)  # False \n"
      ],
      "metadata": {
        "id": "oOxIbfbc_ITt"
      },
      "execution_count": null,
      "outputs": []
    },
    {
      "cell_type": "code",
      "source": [
        "\n",
        "# >= Greater than equal to\n",
        "print(x >= y)  # True\n",
        "print(10 >= x)  # True\n"
      ],
      "metadata": {
        "id": "7PlpCYHd_Jx7"
      },
      "execution_count": null,
      "outputs": []
    },
    {
      "cell_type": "code",
      "source": [
        "\n",
        "# <= Less than equal to\n",
        "print(x <= y)  # False\n",
        "print(10 <= x)  # True"
      ],
      "metadata": {
        "id": "YvDb1e1-_LhE"
      },
      "execution_count": null,
      "outputs": []
    },
    {
      "cell_type": "markdown",
      "source": [
        "# Assignment operators\n",
        "\n",
        "In Python, Assignment operators are used to assigning value to the variable. Assign operator is denoted by = symbol. For example, name = \"Jessa\" here, we have assigned the string literal ‘Jessa’ to a variable name.\n",
        "\n",
        "Also, there are shorthand assignment operators in Python. For example, a+=2 which is equivalent to a = a+2."
      ],
      "metadata": {
        "id": "nd0qMQi-_PIc"
      }
    },
    {
      "cell_type": "code",
      "source": [
        "a = 4\n",
        "b = 2"
      ],
      "metadata": {
        "id": "qskuzmHW_QfK"
      },
      "execution_count": null,
      "outputs": []
    },
    {
      "cell_type": "code",
      "source": [
        "a += b\n",
        "print(a)  # 6"
      ],
      "metadata": {
        "id": "fwPx0hL2_sQ3"
      },
      "execution_count": null,
      "outputs": []
    },
    {
      "cell_type": "code",
      "source": [
        "a = 4\n",
        "a -= 2\n",
        "print(a)  # 2"
      ],
      "metadata": {
        "id": "NYE37sD-_wL3"
      },
      "execution_count": null,
      "outputs": []
    },
    {
      "cell_type": "code",
      "source": [
        "a = 4\n",
        "a /= 2\n",
        "print(a)  # 2.0"
      ],
      "metadata": {
        "id": "MCXsC8vP_4Ld"
      },
      "execution_count": null,
      "outputs": []
    },
    {
      "cell_type": "code",
      "source": [
        "a = 4\n",
        "a **= 2\n",
        "print(a)  # 16"
      ],
      "metadata": {
        "id": "QTYwRYR9_6DY"
      },
      "execution_count": null,
      "outputs": []
    },
    {
      "cell_type": "code",
      "source": [
        "a = 5\n",
        "a %= 2\n",
        "print(a)  # 1"
      ],
      "metadata": {
        "id": "ptr3Zvn7_8Et"
      },
      "execution_count": null,
      "outputs": []
    },
    {
      "cell_type": "code",
      "source": [
        "a = 4\n",
        "a //= 2\n",
        "print(a)  # 2"
      ],
      "metadata": {
        "id": "3vcLaYWXAIpX"
      },
      "execution_count": null,
      "outputs": []
    },
    {
      "cell_type": "markdown",
      "source": [
        "# Logical operators\n",
        "Logical operators are useful when checking a condition is true or not. Python has three logical operators. All logical operator returns a boolean value True or False depending on the condition in which it is used."
      ],
      "metadata": {
        "id": "cK3AiYspAADP"
      }
    },
    {
      "cell_type": "markdown",
      "source": [
        "# and (Logical and)"
      ],
      "metadata": {
        "id": "28uyR9LgATLC"
      }
    },
    {
      "cell_type": "code",
      "source": [
        "print(True and False)  # False\n",
        "# both are True\n",
        "print(True and True)  # True\n",
        "print(False and False)  # False\n",
        "print(False and True)  # false\n",
        "\n",
        "# actual use in code\n",
        "a = 2\n",
        "b = 4\n",
        "\n",
        "# Logical and\n",
        "if a > 0 and b > 0:\n",
        "    # both conditions are true\n",
        "    print(a * b)\n",
        "else:\n",
        "    print(\"Do nothing\")"
      ],
      "metadata": {
        "id": "y1IaYwCGAPKG"
      },
      "execution_count": null,
      "outputs": []
    },
    {
      "cell_type": "markdown",
      "source": [
        "In the case of arithmetic values, Logical and always returns the second value; as a result, see the following example."
      ],
      "metadata": {
        "id": "nMBodUBtAb1k"
      }
    },
    {
      "cell_type": "code",
      "source": [
        "print(10 and 20) # 20\n",
        "print(10 and 5)  # 5\n",
        "print(100 and 300) # 300"
      ],
      "metadata": {
        "id": "T6_zo0KoAgn8"
      },
      "execution_count": null,
      "outputs": []
    },
    {
      "cell_type": "markdown",
      "source": [
        "# or (Logical or)\n"
      ],
      "metadata": {
        "id": "3NaP-3oAAkI7"
      }
    },
    {
      "cell_type": "code",
      "source": [
        "print(True or False)  # True\n",
        "print(True or True)  # True\n",
        "print(False or False)  # false \n",
        "print(False or True)  # True\n",
        "\n",
        "# actual use in code\n",
        "a = 2\n",
        "b = 4\n",
        "\n",
        "# Logical and\n",
        "if a > 0 or b < 0:\n",
        "    # at least one expression is true so conditions is true\n",
        "    print(a + b)  # 6\n",
        "else:\n",
        "    print(\"Do nothing\")"
      ],
      "metadata": {
        "id": "8duqaLkxAou7"
      },
      "execution_count": null,
      "outputs": []
    },
    {
      "cell_type": "markdown",
      "source": [
        "In the case of arithmetic values, Logical or it always returns the first value; as a result, see the following code."
      ],
      "metadata": {
        "id": "2U_z5TKjAtUA"
      }
    },
    {
      "cell_type": "code",
      "source": [
        "print(10 or 20) # 10\n",
        "print(10 or 5) # 10\n",
        "print(100 or 300) # 100"
      ],
      "metadata": {
        "id": "TXiAj597Aso5"
      },
      "execution_count": null,
      "outputs": []
    },
    {
      "cell_type": "markdown",
      "source": [
        "# not (Logical not)"
      ],
      "metadata": {
        "id": "i-Wx6olbAw1w"
      }
    },
    {
      "cell_type": "code",
      "source": [
        "print(not False)  # True return complements result\n",
        "print(not True)  # True return complements result\n",
        "\n",
        "# actual use in code\n",
        "a = True\n",
        "\n",
        "# Logical not\n",
        "if not a:\n",
        "    # a is True so expression is False\n",
        "    print(a) \n",
        "else:\n",
        "    print(\"Do nothing\")"
      ],
      "metadata": {
        "id": "gGHefSYcA1c1"
      },
      "execution_count": null,
      "outputs": []
    },
    {
      "cell_type": "markdown",
      "source": [
        "In the case of arithmetic values, Logical not always return False for nonzero value."
      ],
      "metadata": {
        "id": "8XsvjpweA4vF"
      }
    },
    {
      "cell_type": "code",
      "source": [
        "print(not 10) # False. Non-zero value\n",
        "print(not 1)  # True. Non-zero value\n",
        "print(not 5)  # False. Non-zero value\n",
        "print(not 0)  # True. zero value"
      ],
      "metadata": {
        "id": "R1k2-6KXA6vF"
      },
      "execution_count": null,
      "outputs": []
    },
    {
      "cell_type": "markdown",
      "source": [
        "# Membership operators\n",
        "Python’s membership operators are used to check for membership of objects in sequence, such as string, list, tuple. It checks whether the given value or variable is present in a given sequence. If present, it will return True else False.\n",
        "\n",
        "In Python, there are two membership operator in and not in\n",
        "\n",
        "## In operator\n",
        "It returns a result as True if it finds a given object in the sequence. Otherwise, it returns False.\n",
        "\n",
        "Let’s check if the number 15 present in a given list using the in operator."
      ],
      "metadata": {
        "id": "ERdLz4J4A-sH"
      }
    },
    {
      "cell_type": "code",
      "source": [
        "my_list = [11, 15, 21, 29, 50, 70]\n",
        "number = 15\n",
        "if number in my_list:\n",
        "    print(\"number is present\")\n",
        "else:\n",
        "    print(\"number is not present\")"
      ],
      "metadata": {
        "id": "WyehB_sWBDUm"
      },
      "execution_count": null,
      "outputs": []
    },
    {
      "cell_type": "markdown",
      "source": [
        "## Not in operator\n",
        "It returns True if the object is not present in a given sequence. Otherwise, it returns False"
      ],
      "metadata": {
        "id": "wcBDlasyBFgz"
      }
    },
    {
      "cell_type": "code",
      "source": [
        "my_tuple = (11, 15, 21, 29, 50, 70)\n",
        "number = 35\n",
        "if number not in my_tuple:\n",
        "    print(\"number is not present\")\n",
        "else:\n",
        "    print(\"number is present\")"
      ],
      "metadata": {
        "id": "p6uzfS0MBHMZ"
      },
      "execution_count": null,
      "outputs": []
    },
    {
      "cell_type": "markdown",
      "source": [
        "# Identity operators\n",
        "Use the Identity operator to check whether the value of two variables is the same or not. This operator is known as a reference-quality operator because the identity operator compares values according to two variables’ memory addresses.\n",
        "\n",
        "Python has 2 identity operators is and is not.\n",
        "\n",
        "## is operator\n",
        "The is operator returns Boolean True or False. It Return True if the memory address first value is equal to the second value. Otherwise, it returns False."
      ],
      "metadata": {
        "id": "MJ6OoMz1BNM6"
      }
    },
    {
      "cell_type": "code",
      "source": [
        "x = 10\n",
        "y = 11 \n",
        "z = 10\n",
        "print(x is y) # it compare memory address of x and y \n",
        "print(x is z) # it compare memory address of x and z"
      ],
      "metadata": {
        "id": "zUNgnfXJBPta"
      },
      "execution_count": null,
      "outputs": []
    },
    {
      "cell_type": "markdown",
      "source": [
        "Here, we can use is() function to check whether both variables are pointing to the same object or not."
      ],
      "metadata": {
        "id": "SfYohlRUBSrz"
      }
    },
    {
      "cell_type": "markdown",
      "source": [
        "## is not operator\n",
        "The is not the operator returns boolean values either True or False. It Return True if the first value is not equal to the second value. Otherwise, it returns False."
      ],
      "metadata": {
        "id": "Gjg90Io8BU8o"
      }
    },
    {
      "cell_type": "code",
      "source": [
        "x = 10\n",
        "y = 11 \n",
        "z = 10\n",
        "print(x is not y) # it campare memory address of x and y \n",
        "print(x is not z) # it campare memory address of x and z"
      ],
      "metadata": {
        "id": "rf6gVaOuBXgs"
      },
      "execution_count": null,
      "outputs": []
    },
    {
      "cell_type": "markdown",
      "source": [
        "#Bitwise Operators\n",
        "In Python, bitwise operators are used to performing bitwise operations on integers. To perform bitwise, we first need to convert integer value to binary (0 and 1) value.\n",
        "\n",
        "The bitwise operator operates on values bit by bit, so it’s called bitwise. It always returns the result in decimal format. Python has 6 bitwise operators listed below.\n",
        "\n",
        "* '&' Bitwise and\n",
        "* '|' Bitwise or\n",
        "* '^' Bitwise xor\n",
        "* '~' Bitwise 1’s complement\n",
        "* '<<' Bitwise left-shift\n",
        "* '>>' Bitwise right-shift"
      ],
      "metadata": {
        "id": "5VlKeEiJBZ9q"
      }
    },
    {
      "cell_type": "markdown",
      "source": [
        "# Bitwise and &\n",
        "It performs logical AND operation on the integer value after converting an integer to a binary value and gives the result as a decimal value. It returns True only if both operands are True. Otherwise, it returns False."
      ],
      "metadata": {
        "id": "iyy-ezbrBgwo"
      }
    },
    {
      "cell_type": "code",
      "source": [
        "a = 7\n",
        "b = 4\n",
        "c = 5\n",
        "print(a & b)\n",
        "print(a & c)\n",
        "print(b & c)"
      ],
      "metadata": {
        "id": "lDxkG7JiBZV4"
      },
      "execution_count": null,
      "outputs": []
    },
    {
      "cell_type": "markdown",
      "source": [
        "Here, every integer value is converted into a binary value. For example, a =7, its binary value is 0111, and b=4, its binary value is 0100. Next we performed logical AND, and got 0100 as a result, similarly for a and c, b and c\n",
        "\n",
        "Following diagram shows AND operator evaluation.\n",
        "\n",
        "<img src=\"https://pynative.com/wp-content/uploads/2021/03/python-bitwise-and-operator.png\" alt=\"Girl in a jacket\" width=\"500\">\n"
      ],
      "metadata": {
        "id": "1Hxx5D-cB7fE"
      }
    },
    {
      "cell_type": "markdown",
      "source": [
        "# Bitwise or |\n",
        "It performs logical OR operation on the integer value after converting integer value to binary value and gives the result a decimal value. It returns False only if both operands are True. Otherwise, it returns True."
      ],
      "metadata": {
        "id": "7-7sXQv0CSsC"
      }
    },
    {
      "cell_type": "code",
      "source": [
        "a = 7\n",
        "b = 4\n",
        "c = 5\n",
        "print(a | b)\n",
        "print(a | c)\n",
        "print(b | c)"
      ],
      "metadata": {
        "id": "qsTOoVxKCQU8"
      },
      "execution_count": null,
      "outputs": []
    },
    {
      "cell_type": "markdown",
      "source": [
        "Here, every integer value is converted into binary. For example, a =7 its binary value is 0111, and b=4, its binary value is 0100, after logical OR, we got 0111 as a result. Similarly for a and c, b and c.\n",
        "\n",
        "<img src=\"https://pynative.com/wp-content/uploads/2021/03/python-bitwise-or-operator.png\" alt=\"Girl in a jacket\" width=\"500\">"
      ],
      "metadata": {
        "id": "ApajpKkGCXaT"
      }
    },
    {
      "cell_type": "markdown",
      "source": [
        "# Bitwise xor ^\n",
        "It performs Logical XOR ^ operation on the binary value of a integer and gives the result as a decimal value."
      ],
      "metadata": {
        "id": "i10Jx56NCg95"
      }
    },
    {
      "cell_type": "code",
      "source": [
        "a = 7\n",
        "b = 4\n",
        "c = 5\n",
        "print(a ^ c)\n",
        "print(b ^ c)"
      ],
      "metadata": {
        "id": "QOKr0I--CgC1"
      },
      "execution_count": null,
      "outputs": []
    },
    {
      "cell_type": "markdown",
      "source": [
        "Here, again every integer value is converted into binary. For example, a =7 its binary value is 0111 and b=4, and its binary value is 0100, after logical XOR we got 0011 as a result. Similarly for a and c, b and c.\n",
        "\n",
        "<img src=\"https://pynative.com/wp-content/uploads/2021/03/python-bitwise-xor-operator.png\" alt=\"Girl in a jacket\" width=\"500\">"
      ],
      "metadata": {
        "id": "6xiKHtz8CldT"
      }
    },
    {
      "cell_type": "markdown",
      "source": [
        "# Bitwise 1’s complement ~\n",
        "It performs 1’s complement operation. It invert each bit of binary value and returns the bitwise negation of a value as a result."
      ],
      "metadata": {
        "id": "mC1q-4MlCu43"
      }
    },
    {
      "cell_type": "code",
      "source": [
        "a = 7\n",
        "b = 4\n",
        "c = 3\n",
        "print(~a, ~b, ~c)\n",
        "# Output -8 -5 -4"
      ],
      "metadata": {
        "id": "ScMsf0LnCxL9"
      },
      "execution_count": null,
      "outputs": []
    },
    {
      "cell_type": "markdown",
      "source": [
        "# Bitwise left-shift <<\n",
        "\n",
        "The left-shift << operator performs a shifting bit of value by a given number of the place and fills 0’s to new positions."
      ],
      "metadata": {
        "id": "dK9Ul8jjC1td"
      }
    },
    {
      "cell_type": "code",
      "source": [
        "print(4 << 2) \n",
        "# Output 16\n",
        "print(5 << 3)\n",
        "# Output 40"
      ],
      "metadata": {
        "id": "7MOtpRIbC50I"
      },
      "execution_count": null,
      "outputs": []
    },
    {
      "cell_type": "markdown",
      "source": [
        "<img src=\"https://pynative.com/wp-content/uploads/2021/03/python-bitwise-letf-shift.png\" alt=\"Girl in a jacket\" width=\"500\">"
      ],
      "metadata": {
        "id": "rR7VTExHC9Ve"
      }
    },
    {
      "cell_type": "markdown",
      "source": [
        "# Bitwise right-shift >>\n",
        "The left-shift >> operator performs shifting a bit of value to the right by a given number of places. Here some bits are lost."
      ],
      "metadata": {
        "id": "LowqeC9pDfUf"
      }
    },
    {
      "cell_type": "code",
      "source": [
        "print(4 >> 2)\n",
        "# Output \n",
        "print(5 >> 2)\n",
        "# Output "
      ],
      "metadata": {
        "id": "ySb1-jVvDgvz"
      },
      "execution_count": null,
      "outputs": []
    },
    {
      "cell_type": "markdown",
      "source": [
        "<img src=\"https://pynative.com/wp-content/uploads/2021/03/python-bitwise-right-shift.png\" alt=\"Girl in a jacket\" width=\"500\">"
      ],
      "metadata": {
        "id": "kkbvlxzZDjQS"
      }
    },
    {
      "cell_type": "markdown",
      "source": [],
      "metadata": {
        "id": "2wmgdbpgDmKJ"
      }
    },
    {
      "cell_type": "code",
      "source": [],
      "metadata": {
        "id": "lUCTjWyCC8j0"
      },
      "execution_count": null,
      "outputs": []
    }
  ]
}