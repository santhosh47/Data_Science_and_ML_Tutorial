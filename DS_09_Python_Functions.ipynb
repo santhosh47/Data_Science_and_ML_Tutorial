{
  "nbformat": 4,
  "nbformat_minor": 0,
  "metadata": {
    "colab": {
      "provenance": [],
      "collapsed_sections": [],
      "authorship_tag": "ABX9TyOEU3Rxi4bqkXJJXXxflpQG",
      "include_colab_link": true
    },
    "kernelspec": {
      "name": "python3",
      "display_name": "Python 3"
    },
    "language_info": {
      "name": "python"
    }
  },
  "cells": [
    {
      "cell_type": "markdown",
      "metadata": {
        "id": "view-in-github",
        "colab_type": "text"
      },
      "source": [
        "<a href=\"https://colab.research.google.com/github/santhosh47/Data_Science_and_ML_Tutorial/blob/main/DS_09_Python_Functions.ipynb\" target=\"_parent\"><img src=\"https://colab.research.google.com/assets/colab-badge.svg\" alt=\"Open In Colab\"/></a>"
      ]
    },
    {
      "cell_type": "markdown",
      "source": [
        "#Function\n",
        "\n",
        "##What is a function\n",
        "A function is a named code block that performs a job or returns a value.\n",
        "\n",
        "##Why do you need functions in Python\n",
        "Sometimes, you need to perform a task multiple times in a program. And you don’t want to copy the code for that same task all over places.\n",
        "\n",
        "To do so, you wrap the code in a function and use this function to perform the task whenever you need it.\n",
        "\n",
        "For example, whenever you want to display a value on the screen, you need to call the print() function. Behind the scene, Python runs the code inside the print() function to display a value on the screen.\n",
        "\n",
        "In practice, you use functions to divide a large program into smaller and more manageable parts. The functions will make your program easier to develop, read, test, and maintain.\n",
        "\n",
        "The print() function is one of many built-in functions in Python. It means that these functions are available everywhere in the program.\n",
        "\n",
        "In this tutorial, you’ll learn how to define user-defined Python functions.\n",
        "\n",
        "## Built-in function\n",
        "\n",
        "The functions which are come along with Python itself are called a built-in function or predefined function. Some of them are listed below.\n",
        "range(), id(), type(), input(), eval() etc.\n",
        "\n"
      ],
      "metadata": {
        "id": "I19doepwJU5Z"
      }
    },
    {
      "cell_type": "code",
      "source": [
        "for i in range(1, 10):\n",
        "    print(i, end=' ')\n",
        "# Output 1 2 3 4 5 6 7 8 9"
      ],
      "metadata": {
        "id": "3n-OhMMoKkEL"
      },
      "execution_count": null,
      "outputs": []
    },
    {
      "cell_type": "markdown",
      "source": [
        "##Defining a Python function\n",
        "Here’s a simple function that shows a greeting:"
      ],
      "metadata": {
        "id": "Qun6efTjKi2R"
      }
    },
    {
      "cell_type": "code",
      "execution_count": null,
      "metadata": {
        "id": "FmI7RLXDI9mH"
      },
      "outputs": [],
      "source": [
        "def greet():\n",
        "    \"\"\" Display a greeting to users \"\"\"\n",
        "    print('Hi')"
      ]
    },
    {
      "cell_type": "markdown",
      "source": [
        "## 1) Function definition\n",
        "A function definition starts with the def keyword and the name of the function (greet).\n",
        "\n",
        "If the function needs some information to do its job, you need to specify it inside the parentheses (). The greet function in this example doesn’t need any information, so its parentheses are empty.\n",
        "\n",
        "The function definition always ends in a colon (:)."
      ],
      "metadata": {
        "id": "40-kGeeEJavT"
      }
    },
    {
      "cell_type": "markdown",
      "source": [
        "##2) Function body\n",
        "All the indented lines that follow the function definition make up the function’s body.\n",
        "\n",
        "The text string surrounded by triple quotes is called a docstring. It describes what the function does. Python uses the docstring to generate documentation for the function automatically.\n",
        "\n",
        "The line print('Hi') is the only line of actual code in the function body. The greet() function does one task: print('Hi')."
      ],
      "metadata": {
        "id": "c8u_2hw5Jdwq"
      }
    },
    {
      "cell_type": "markdown",
      "source": [
        "## Calling a function\n",
        "When you want to use a function, you need to call it. A function call instructs Python to execute the code inside the function.\n",
        "\n",
        "To call a function, you write the function’s name, followed by the information that the function needs in parentheses.\n",
        "\n",
        "The following example calls the greet() function. Since the greet() function doesn’t need any information, you need to specify empty parentheses like this:"
      ],
      "metadata": {
        "id": "8o5E0XmWJgdF"
      }
    },
    {
      "cell_type": "code",
      "source": [
        "greet()"
      ],
      "metadata": {
        "id": "7pH9gguNJTOk"
      },
      "execution_count": null,
      "outputs": []
    },
    {
      "cell_type": "markdown",
      "source": [
        "#Creating a function without any parameters\n",
        "\n",
        "Now, Let’s the example of creating a simple function that prints a welcome message."
      ],
      "metadata": {
        "id": "H41i4IKfKxry"
      }
    },
    {
      "cell_type": "code",
      "source": [
        "# function\n",
        "def message():\n",
        "    print(\"Welcome to PYnative\")\n",
        "\n",
        "# call function using its name\n",
        "message()"
      ],
      "metadata": {
        "id": "qTk31-V5K1S_"
      },
      "execution_count": null,
      "outputs": []
    },
    {
      "cell_type": "markdown",
      "source": [
        "## Passing information to Python functions\n",
        "Suppose that you want to greet users by their names. To do it, you need to specify a name in parentheses of the function definition as follows:"
      ],
      "metadata": {
        "id": "zeuM0lYzJlG4"
      }
    },
    {
      "cell_type": "code",
      "source": [
        "def greet(name):\n",
        "    print(f\"Hi {name}\")"
      ],
      "metadata": {
        "id": "vg_DowdzJpFk"
      },
      "execution_count": null,
      "outputs": []
    },
    {
      "cell_type": "markdown",
      "source": [
        "The name is called a function parameter or simply a parameter.\n",
        "\n",
        "When you add a parameter to the function definition, you can use it as a variable inside the function body:"
      ],
      "metadata": {
        "id": "xwo-E6r_Jr0s"
      }
    },
    {
      "cell_type": "code",
      "source": [
        "greet('John')"
      ],
      "metadata": {
        "id": "JZUZHO1TJv2R"
      },
      "execution_count": null,
      "outputs": []
    },
    {
      "cell_type": "code",
      "source": [
        "first_name = 'Jane'\n",
        "greet(first_name)"
      ],
      "metadata": {
        "id": "aBPMQdQjJzfr"
      },
      "execution_count": null,
      "outputs": []
    },
    {
      "cell_type": "markdown",
      "source": [
        "# Parameters vs. Arguments\n",
        "Sometimes, parameters and arguments are used interchangeably. It’s important to distinguish between the parameters and arguments of a function.\n",
        "\n",
        "A parameter is a piece of information that a function needs. And you specify the parameter in the function definition. For example, the greet() function has a parameter called name.\n",
        "\n",
        "An argument is a piece of data that you pass into the function. For example, the text string 'John' or the variable jane is the function argument."
      ],
      "metadata": {
        "id": "bkD32FklJ10e"
      }
    },
    {
      "cell_type": "markdown",
      "source": [
        "##Returning a value\n",
        "A function can perform a task like the greet() function. Or it can return a value. The value that a function returns is called a return value.\n",
        "\n",
        "To return a value from a function, you use the return statement inside the function body."
      ],
      "metadata": {
        "id": "dosA2s-OKAPY"
      }
    },
    {
      "cell_type": "code",
      "source": [
        "def greet(name):\n",
        "    return f\"Hi {name}\""
      ],
      "metadata": {
        "id": "L9W_qNOQKCkV"
      },
      "execution_count": null,
      "outputs": []
    },
    {
      "cell_type": "code",
      "source": [
        "greeting = greet('John')"
      ],
      "metadata": {
        "id": "Fuyc33xQKEPS"
      },
      "execution_count": null,
      "outputs": []
    },
    {
      "cell_type": "code",
      "source": [
        "print(greeting)"
      ],
      "metadata": {
        "id": "vK_s7Nv7KFki"
      },
      "execution_count": null,
      "outputs": []
    },
    {
      "cell_type": "markdown",
      "source": [
        "he return value is nothing but a outcome of function.\n",
        "\n",
        "* The return statement ends the function execution.\n",
        "* For a function, it is not mandatory to return a value.\n",
        "* If a return statement is used without any expression, then the None is returned.\n",
        "* The return statement should be inside of the function block."
      ],
      "metadata": {
        "id": "mPb9ofUDLkR_"
      }
    },
    {
      "cell_type": "code",
      "source": [
        "def is_even(list1):\n",
        "    even_num = []\n",
        "    for n in list1:\n",
        "        if n % 2 == 0:\n",
        "            even_num.append(n)\n",
        "    # return a list\n",
        "    return even_num\n",
        "\n",
        "# Pass list to the function\n",
        "even_num = is_even([2, 3, 42, 51, 62, 70, 5, 9])\n",
        "print(\"Even numbers are:\", even_num)"
      ],
      "metadata": {
        "id": "4vcDqJIELtOf"
      },
      "execution_count": null,
      "outputs": []
    },
    {
      "cell_type": "markdown",
      "source": [
        "## Return Multiple Values\n",
        "You can also return multiple values from a function. Use the return statement by separating each expression by a comma.\n",
        "\n",
        "###Example: –\n",
        "\n",
        "In this example, we are returning three values from a function. We will also see how to process or read multiple return values in our code."
      ],
      "metadata": {
        "id": "zlpZ4aIkLxJs"
      }
    },
    {
      "cell_type": "code",
      "source": [
        "def arithmetic(num1, num2):\n",
        "    add = num1 + num2\n",
        "    sub = num1 - num2\n",
        "    multiply = num1 * num2\n",
        "    division = num1 / num2\n",
        "    # return four values\n",
        "    return add, sub, multiply, division\n",
        "\n",
        "# read four return values in four variables\n",
        "a, b, c, d = arithmetic(10, 2)\n",
        "\n",
        "print(\"Addition: \", a)\n",
        "print(\"Subtraction: \", b)\n",
        "print(\"Multiplication: \", c)\n",
        "print(\"Division: \", d)"
      ],
      "metadata": {
        "id": "K9AKfbprLwJh"
      },
      "execution_count": null,
      "outputs": []
    },
    {
      "cell_type": "markdown",
      "source": [
        "#Python functions with multiple parameters\n",
        "A function can have zero, one, or multiple parameters.\n",
        "\n",
        "The following example defines a function called sum() that calculates the sum of two numbers:"
      ],
      "metadata": {
        "id": "FG-FV8HJKIU0"
      }
    },
    {
      "cell_type": "code",
      "source": [
        "def sum(a, b):\n",
        "    return a + b\n",
        "\n",
        "\n",
        "total = sum(10,20)\n",
        "print(total)"
      ],
      "metadata": {
        "id": "vvPrLFfvKJq3"
      },
      "execution_count": null,
      "outputs": []
    },
    {
      "cell_type": "markdown",
      "source": [
        "#Calling a function of a module\n",
        "You can take advantage of the built-in module and use the functions defined in it. For example, Python has a random module that is used for generating random numbers and data. It has various functions to create different types of random data.\n",
        "\n",
        "Let’s see how to use functions defined in any module.\n",
        "\n",
        "* First, we need to use the import statement to import a specific function from a module.\n",
        "* Next, we can call that function by its name.\n"
      ],
      "metadata": {
        "id": "crpjpptaK-AZ"
      }
    },
    {
      "cell_type": "code",
      "source": [
        "# import randint function\n",
        "from random import randint\n",
        "\n",
        "# call randint function to get random number\n",
        "print(randint(10, 20))\n",
        "# Output 14"
      ],
      "metadata": {
        "id": "A_sVCVdMLGcV"
      },
      "execution_count": null,
      "outputs": []
    },
    {
      "cell_type": "markdown",
      "source": [
        "##Docstrings\n",
        "In Python, the documentation string is also called a docstring. It is a descriptive text (like a comment) written by a programmer to let others know what block of code does.\n",
        "\n",
        "We write docstring in source code and define it immediately after module, class, function, or method definition.\n",
        "\n",
        "It is being declared using triple single quotes (''' ''') or triple-double quote(\"\"\" \"\"\").\n",
        "\n",
        "We can access docstring using doc attribute (__doc__) for any object like list, tuple, dict, and user-defined function, etc.\n",
        "\n",
        "##Single-Line Docstring\n",
        "The single-line docstring is a docstring that fits in one line. We can use the triple single or triple-double quotes to define it. The Opening and closing quotes need to be the same. By convention, we should use to use the triple-double quotes to define docstring."
      ],
      "metadata": {
        "id": "2Kvk_hq0LITw"
      }
    },
    {
      "cell_type": "code",
      "source": [
        "def factorial(x):\n",
        "    \"\"\"This function returns the factorial of a given number.\"\"\"\n",
        "    return x\n",
        "\n",
        "# access doc string\n",
        "print(factorial.__doc__)"
      ],
      "metadata": {
        "id": "6YNevj5VLROM"
      },
      "execution_count": null,
      "outputs": []
    },
    {
      "cell_type": "markdown",
      "source": [
        "#Multi-Line Docstring\n",
        "A multi-line Docstrings is the same single-line Docstrings, but it is followed by a single blank line with the descriptive text.\n",
        "\n",
        "The general format of writing a multi-line Docstring is as follows:"
      ],
      "metadata": {
        "id": "2iQ-uhXBLZMI"
      }
    },
    {
      "cell_type": "code",
      "source": [
        "def any_fun(parameter1):\n",
        "\"\"\"              \n",
        "   Description of function\n",
        "                 \n",
        "   Arguments:   \n",
        "   parameter1(int):Description of parameter1\n",
        "                 \n",
        "   Returns:      \n",
        "   int value     \n",
        "\"\"\"              \n",
        "print(any_fun.__doc__)"
      ],
      "metadata": {
        "id": "hgPV2w1QLayS"
      },
      "execution_count": null,
      "outputs": []
    },
    {
      "cell_type": "markdown",
      "source": [
        "##Python Function Arguments\n",
        "The argument is a value, a variable, or an object that we pass to a function or method call. In Python, there are four types of arguments allowed.\n",
        "\n",
        "* Positional arguments\n",
        "* keyword arguments\n",
        "* Default arguments\n",
        "* Variable-length arguments\n",
        "\n",
        "Read the complete guide on [Python function arguments.](https://pynative.com/python-function-arguments/)"
      ],
      "metadata": {
        "id": "LemAFJvRMFHv"
      }
    },
    {
      "cell_type": "markdown",
      "source": [
        "## Positional Arguments\n",
        "Positional arguments are arguments that are pass to function in proper positional order. That is, the 1st positional argument needs to be 1st when the function is called. The 2nd positional argument needs to be 2nd when the function is called, etc. See the following example for more understanding."
      ],
      "metadata": {
        "id": "oAmxsdDGMZyu"
      }
    },
    {
      "cell_type": "code",
      "source": [
        "def add(a, b):\n",
        "    print(a - b)\n",
        "\n",
        "add(50, 10)\n",
        "# Output 40\n",
        "add(10, 50)\n",
        "# Output -40"
      ],
      "metadata": {
        "id": "8fQRB-WMMcJG"
      },
      "execution_count": null,
      "outputs": []
    },
    {
      "cell_type": "markdown",
      "source": [
        "If you try to use pass more parameters you will get an error."
      ],
      "metadata": {
        "id": "e7-lcYekMeVE"
      }
    },
    {
      "cell_type": "code",
      "source": [
        "def add(a, b):\n",
        "    print(a - b)\n",
        "\n",
        "add(105, 561, 4)"
      ],
      "metadata": {
        "id": "HLn_zm9mMhF3"
      },
      "execution_count": null,
      "outputs": []
    },
    {
      "cell_type": "markdown",
      "source": [
        "## Keyword Arguments\n",
        "A keyword argument is an argument value, passed to function preceded by the variable name and an equals sign."
      ],
      "metadata": {
        "id": "inSpjDznMjlC"
      }
    },
    {
      "cell_type": "code",
      "source": [
        "def message(name, surname):\n",
        "    print(\"Hello\", name, surname)\n",
        "\n",
        "message(name=\"John\", surname=\"Wilson\")\n",
        "message(surname=\"Ault\", name=\"Kelly\")\n"
      ],
      "metadata": {
        "id": "3NXLujm_MljW"
      },
      "execution_count": null,
      "outputs": []
    },
    {
      "cell_type": "markdown",
      "source": [
        "In keyword arguments order of argument is not matter, but the number of arguments must match. Otherwise, we will get an error.\n",
        "\n",
        "While using keyword and positional argument simultaneously, we need to pass 1st arguments as positional arguments and then keyword arguments. Otherwise, we will get SyntaxError. See the following example."
      ],
      "metadata": {
        "id": "1ODqf36wMncr"
      }
    },
    {
      "cell_type": "code",
      "source": [
        "def message(first_nm, last_nm):\n",
        "    print(\"Hello..!\", first_nm, last_nm)\n",
        "\n",
        "# correct use\n",
        "message(\"John\", \"Wilson\")\n",
        "message(\"John\", last_nm=\"Wilson\")\n",
        "\n",
        "# Error\n",
        "# SyntaxError: positional argument follows keyword argument\n",
        "message(first_nm=\"John\", \"Wilson\")\n"
      ],
      "metadata": {
        "id": "7CP9-FIGMo-t"
      },
      "execution_count": null,
      "outputs": []
    },
    {
      "cell_type": "markdown",
      "source": [
        "##Default Arguments\n",
        "Default arguments take the default value during the function call if we do not pass them. We can assign a default value to an argument in function definition using the = assignment operator.\n",
        "\n",
        "For example, A function show_employee() that accepts the employee’s name and salary and displays both. Let’s modify a function definition and assigned a default value 8000 to a salary. Next, if salary value is missing in the function call, the function automatically takes default value 9000 as a salary.\n"
      ],
      "metadata": {
        "id": "fnezbYrdMreG"
      }
    },
    {
      "cell_type": "code",
      "source": [
        "# function with default argument\n",
        "def message(name=\"Guest\"):\n",
        "    print(\"Hello\", name)\n",
        "\n",
        "# calling function with argument\n",
        "message(\"John\")\n",
        "\n",
        "# calling function without argument\n",
        "message()"
      ],
      "metadata": {
        "id": "q0GAMsnpMq4X"
      },
      "execution_count": null,
      "outputs": []
    },
    {
      "cell_type": "markdown",
      "source": [
        "##Variable-length Arguments\n",
        "In Python, sometimes, there is a situation where we need to pass multiple numbers of arguments to the function. Such types of arguments are called variable-length arguments. We can declare a variable-length argument with the * (asterisk) symbol.\n",
        "\n",
        "We can pass any number of arguments to this function. Internally all these values are represented in the form of a tuple."
      ],
      "metadata": {
        "id": "DPzupZVQMzV9"
      }
    },
    {
      "cell_type": "code",
      "source": [
        "def addition(*numbers):\n",
        "    total = 0\n",
        "    for no in numbers:\n",
        "        total = total + no\n",
        "    print(\"Sum is:\", total)\n",
        "\n",
        "\n",
        "# 0 arguments\n",
        "addition()\n",
        "\n",
        "# 5 arguments\n",
        "addition(10, 5, 2, 5, 4)\n",
        "\n",
        "\n",
        "# 3 arguments\n",
        "addition(78, 7, 2.5)"
      ],
      "metadata": {
        "id": "xbamA2iVM59n"
      },
      "execution_count": null,
      "outputs": []
    },
    {
      "cell_type": "markdown",
      "source": [
        "##Recursive Function\n",
        "A recursive function is a function that calls itself, again and again.\n",
        "\n",
        "Consider, calculating the factorial of a number is a repetitive activity, in that case, we can call a function again and again, which calculates factorial."
      ],
      "metadata": {
        "id": "fsYTXUD5M9pG"
      }
    },
    {
      "cell_type": "code",
      "source": [
        "def factorial(no):\n",
        "    if no == 0:\n",
        "        return 1\n",
        "    else:\n",
        "        return no * factorial(no - 1)\n",
        "\n",
        "print(\"factorial of a number is:\", factorial(8))\n"
      ],
      "metadata": {
        "id": "ETcNQED4NAG1"
      },
      "execution_count": null,
      "outputs": []
    },
    {
      "cell_type": "code",
      "source": [
        "factorial(5)\n",
        "    \n",
        "5*factorial(4)\n",
        "5*4*factorial(3)\n",
        "5*4*3*factorial(2)\n",
        "5*4*3*2*factorial(1)\n"
      ],
      "metadata": {
        "id": "QpFyiqj1NDRI"
      },
      "execution_count": null,
      "outputs": []
    },
    {
      "cell_type": "markdown",
      "source": [
        "##The advantages of the recursive function are:\n",
        "\n",
        "* By using recursive, we can reduce the length of the code.\n",
        "* The readability of code improves due to code reduction.\n",
        "* Useful for solving a complex problem\n",
        "##The disadvantage of the recursive function:\n",
        "\n",
        "* The recursive function takes more memory and time for execution.\n",
        "* Debugging is not easy for the recursive function."
      ],
      "metadata": {
        "id": "fOc-hJbSNJIF"
      }
    },
    {
      "cell_type": "markdown",
      "source": [
        "#Python Anonymous/Lambda Function\n",
        "Sometimes we need to declare a function without any name. The nameless property function is called an anonymous function or lambda function.\n",
        "\n",
        "The reason behind the using anonymous function is for instant use, that is, one-time usage. Normal function is declared using the def function. Whereas the anonymous function is declared using the lambda keyword.\n",
        "\n",
        "In opposite to a normal function, a Python lambda function is a single expression. But, in a lambda body, we can expand with expressions over multiple lines using parentheses or a multiline string.\n",
        "ex : lambda n:n+n"
      ],
      "metadata": {
        "id": "Hx6AQVprNRwJ"
      }
    },
    {
      "cell_type": "code",
      "source": [
        "#Syntax of lambda function:\n",
        "\n",
        "lambda: argument_list:expression"
      ],
      "metadata": {
        "id": "s4HjveEONXJn"
      },
      "execution_count": null,
      "outputs": []
    },
    {
      "cell_type": "markdown",
      "source": [
        "When we define a function using the lambda keyword, the code is very concise so that there is more readability in the code. A lambda function can have any number of arguments but return only one value after expression evaluation.\n",
        "\n",
        "Let’s see an example to print even numbers without a lambda function and with a lambda function. See the difference in line of code as well as readability of code."
      ],
      "metadata": {
        "id": "T-djbDXXNbHJ"
      }
    },
    {
      "cell_type": "code",
      "source": [
        "def even_numbers(nums):\n",
        "    even_list = []\n",
        "    for n in nums:\n",
        "        if n % 2 == 0:\n",
        "            even_list.append(n)\n",
        "    return even_list\n",
        "\n",
        "num_list = [10, 5, 12, 78, 6, 1, 7, 9]\n",
        "ans = even_numbers(num_list)\n",
        "print(\"Even numbers are:\", ans)"
      ],
      "metadata": {
        "id": "AZCDFuyKNF1h"
      },
      "execution_count": null,
      "outputs": []
    },
    {
      "cell_type": "code",
      "source": [
        "l = [10, 5, 12, 78, 6, 1, 7, 9]\n",
        "even_nos = list(filter(lambda x: x % 2 == 0, l))\n",
        "print(\"Even numbers are: \", even_nos)"
      ],
      "metadata": {
        "id": "KgFGcPQiNe9O"
      },
      "execution_count": null,
      "outputs": []
    },
    {
      "cell_type": "markdown",
      "source": [
        "We are not required to write explicitly return statements in the lambda function because the lambda internally returns expression value.\n",
        "\n",
        "Lambda functions are more useful when we pass a function as an argument to another function. We can also use the lambda function with built-in functions such as filter, map, reduce because this function requires another function as an argument."
      ],
      "metadata": {
        "id": "O6JIRxnqNhDp"
      }
    },
    {
      "cell_type": "markdown",
      "source": [
        "#filter() function in Python\n",
        "In Python, the filter() function is used to return the filtered value. We use this function to filter values based on some conditions."
      ],
      "metadata": {
        "id": "DIulSKTDNy73"
      }
    },
    {
      "cell_type": "code",
      "source": [
        "#Syntax of filter() function:\n",
        "\n",
        "filter(funtion, sequence)"
      ],
      "metadata": {
        "id": "5BUOlHJqN1qs"
      },
      "execution_count": null,
      "outputs": []
    },
    {
      "cell_type": "markdown",
      "source": [
        "where,\n",
        "\n",
        "* function – Function argument is responsible for performing condition checking.\n",
        "* sequence – Sequence argument can be anything like list, tuple, string\n"
      ],
      "metadata": {
        "id": "YxfRqablN4HB"
      }
    },
    {
      "cell_type": "code",
      "source": [
        "#Example: lambda function with  filter()\n",
        "\n",
        "l = [-10, 5, 12, -78, 6, -1, -7, 9]\n",
        "positive_nos = list(filter(lambda x: x > 0, l))\n",
        "print(\"Positive numbers are: \", positive_nos)"
      ],
      "metadata": {
        "id": "TslUAzYvN8i4"
      },
      "execution_count": null,
      "outputs": []
    },
    {
      "cell_type": "markdown",
      "source": [
        "#map() function in Python\n",
        "In Python, the map() function is used to apply some functionality for every element present in the given sequence and generate a new series with a required modification.\n",
        "\n",
        "Ex: for every element present in the sequence, perform cube operation and generate a new cube list."
      ],
      "metadata": {
        "id": "xU_KMSOvN-16"
      }
    },
    {
      "cell_type": "code",
      "source": [
        "#Syntax of map() function:\n",
        "\n",
        "map(function,sequence)"
      ],
      "metadata": {
        "id": "MtgJFhGXOBrU"
      },
      "execution_count": null,
      "outputs": []
    },
    {
      "cell_type": "markdown",
      "source": [
        "where,\n",
        "\n",
        "function – function argument responsible for applied on each element of the sequence\n",
        "sequence – Sequence argument can be anything like list, tuple, string"
      ],
      "metadata": {
        "id": "ACmG0Kq3OEPm"
      }
    },
    {
      "cell_type": "code",
      "source": [
        "#Example: lambda function with map() function\n",
        "\n",
        "list1 = [2, 3, 4, 8, 9]\n",
        "list2 = list(map(lambda x: x*x*x, list1))\n",
        "print(\"Cube values are:\", list2)"
      ],
      "metadata": {
        "id": "Yv5O-BvvOG_D"
      },
      "execution_count": null,
      "outputs": []
    },
    {
      "cell_type": "markdown",
      "source": [
        "#reduce() function in Python\n",
        "In Python, the reduce() function is used to minimize sequence elements into a single value by applying the specified condition.\n",
        "\n",
        "The reduce() function is present in the functools module; hence, we need to import it using the import statement before using it."
      ],
      "metadata": {
        "id": "hasLbOV6OJkQ"
      }
    },
    {
      "cell_type": "code",
      "source": [
        "#Syntax of reduce() function:\n",
        "\n",
        "reduce(function, sequence)"
      ],
      "metadata": {
        "id": "65lr8DoCOLld"
      },
      "execution_count": null,
      "outputs": []
    },
    {
      "cell_type": "code",
      "source": [
        "#Example: lambda function with reduce()\n",
        "\n",
        "from functools import reduce\n",
        "list1 = [20, 13, 4, 8, 9]\n",
        "add = reduce(lambda x, y: x+y, list1)\n",
        "print(\"Addition of all list elements is : \", add)>/code>"
      ],
      "metadata": {
        "id": "BZm2bna8OPD3"
      },
      "execution_count": null,
      "outputs": []
    }
  ]
}