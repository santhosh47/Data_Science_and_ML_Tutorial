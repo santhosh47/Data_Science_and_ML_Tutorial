{
  "nbformat": 4,
  "nbformat_minor": 0,
  "metadata": {
    "colab": {
      "provenance": [],
      "authorship_tag": "ABX9TyPkysxTHrwcBSH6VPbHiBEC",
      "include_colab_link": true
    },
    "kernelspec": {
      "name": "python3",
      "display_name": "Python 3"
    },
    "language_info": {
      "name": "python"
    }
  },
  "cells": [
    {
      "cell_type": "markdown",
      "metadata": {
        "id": "view-in-github",
        "colab_type": "text"
      },
      "source": [
        "<a href=\"https://colab.research.google.com/github/santhosh47/Data_Science_and_ML_Tutorial/blob/main/DS_02_Why_Pthon.ipynb\" target=\"_parent\"><img src=\"https://colab.research.google.com/assets/colab-badge.svg\" alt=\"Open In Colab\"/></a>"
      ]
    },
    {
      "cell_type": "markdown",
      "source": [
        "# Languages used in Data Science\n",
        "\n",
        "* Python\n",
        "* R\n",
        "* SQL\n",
        "* Java\n",
        "* Julia\n",
        "* Scala\n",
        "* C/C++\n",
        "* JavaScript\n",
        "* Swift\n",
        "* Go\n",
        "* MATLAB\n",
        "* SAS\n",
        "\n"
      ],
      "metadata": {
        "id": "wgHKSlCs0gzt"
      }
    },
    {
      "cell_type": "markdown",
      "source": [
        "# Python\n",
        "\n",
        "<img src=\"https://cdn3.iconfinder.com/data/icons/logos-and-brands-adobe/512/267_Python-512.png\" alt=\"python logo\" width=\"200\"/>\n",
        "\n",
        "Ranked first in several programming languages popularity indices, including the TIOBE Index and the PYPL Index, the popularity of Python has boomed in recent years. Python is an open-source, general-purpose programming language with broad applicability not only in the data science industry, but also in other domains, like web development and video game development.\n",
        "\n",
        "\n",
        "<img src=\"https://res.cloudinary.com/dyd911kmh/image/upload/v1642759712/image2_m8wk5a.png\" alt=\"python logo\" width=\"600\"/>\n",
        "\n",
        "\n",
        "Any data science tasks you can think of can be done with Python. This is mainly thanks to its rich ecosystem of libraries. With thousands of powerful packages backed by its huge community of users, Python can perform all kinds of operations, from data preprocessing, visualization, and statistical analysis, to the deployment of machine learning and deep learning models. Here are some of the most used libraries for data science and machine learning purposes:\n",
        "\n",
        "### NumPy: \n",
        "is a popular package that offers an extensive collection of advanced mathematical functions. Many packages are based on Numpy objects, like the famous NumPy arrays. \n",
        "\n",
        "### pandas: \n",
        "is a key library in data science, used for performing all kinds of manipulation of databases, also called DataFrames.\n",
        "\n",
        "### Matplotlib: \n",
        "the standard Python library for data visualization. scikit-learn: built on top of NumPy and SciPy, it has become the most popular Python library for developing machine learning algorithms. \n",
        "\n",
        "### TensorFlow: \n",
        "developed by Google, it is a powerful computational framework for developing machine learning and deep learning algorithms. \n",
        "\n",
        "### Keras: \n",
        "an open-source library designed to train neural networks with high performance. Due to its simple and readable syntax, Python is often referred to as one of the easiest programming languages to learn and use for beginners. If you are new in data science and don’t know which language to learn first, Python is one of the best options. "
      ],
      "metadata": {
        "id": "xdgUzGux15Zp"
      }
    },
    {
      "cell_type": "markdown",
      "source": [
        "# How to Install Python\n",
        "\n",
        "## Step 1: Download the Python Installer binaries\n",
        "* Open the official Python website in your web browser. \n",
        "* Navigate to the Downloads tab for Windows.\n",
        "* Choose the latest Python 3 release. In our example, we choose the latest Python 3.7.3 version.\n",
        "* Click on the link to download Windows x86 executable installer if you are using a 32-bit installer. \n",
        "* In case your Windows installation is a 64-bit system, then download Windows x86-64 executable installer.\n",
        "\n",
        "## Step 2: Run the Executable Installer\n",
        "\n",
        "* Once the installer is downloaded, run the Python installer.\n",
        "* Check the Install launcher for all users check box. Further, you may check the Add Python 3.7 to path check box to include the interpreter in the execution path.\n",
        "\n",
        "  <img src=\"https://journaldev.nyc3.digitaloceanspaces.com/2019/06/customize_installation.png\" alt=\"step-2\" width=\"600\"/>\n",
        "\n",
        "* Click on install now\n",
        "\n",
        "* Once the installation is over, you will see a Python Setup Successful window.\n",
        "\n",
        "  <img src=\"https://journaldev.nyc3.digitaloceanspaces.com/2019/06/setup_successful.png\" alt=\"step-2\" width=\"600\"/>\n",
        "\n",
        "\n",
        "## Step 3: Add Python to environmental variables\n",
        "\n",
        "In the Start menu, search for “advanced system settings”. Select “View advanced system settings”. In the “System Properties” window, click on the “Advanced” tab and then click on the “Environment Variables” button. Locate the Python installation directory on your system. If you followed the steps exactly as above, python will be installed in below locations:\n",
        "\n",
        "* C:\\Program Files (x86)\\Python37-32: for 32-bit installation\n",
        "* C:\\Program Files\\Python37-32: for 64-bit installation\n",
        "\n",
        "The folder name may be different from “Python37-32” if you installed a different version. Look for a folder whose name starts with Python. Append the following entries to PATH variable as shown below:\n",
        "\n",
        "  <img src=\"https://journaldev.nyc3.digitaloceanspaces.com/2019/06/environmentalvar_to-path.png\" alt=\"step-3\" width=\"600\"/>\n",
        "\n",
        "## Step 4: Verify the Python Installation\n",
        "\n",
        "You have now successfully installed Python 3.7.3. You can verify if the Python installation is successful either through the command line or through the IDLE app that gets installed along with the installation. Search for the command prompt and type “python”. You can see that Python 3.7.3 is successfully installed.\n",
        "\n",
        "  <img src=\"https://journaldev.nyc3.digitaloceanspaces.com/2019/06/verify-python-cmdpromt.png\" alt=\"step-3\" width=\"600\"/>\n",
        "\n",
        "An alternate way to reach python is to search for “Python” in the start menu and clicking on IDLE (Python 3.7 64-bit). You can start coding in Python using the Integrated Development Environment(IDLE).\n",
        "\n",
        "  <img src=\"https://journaldev.nyc3.digitaloceanspaces.com/2019/06/verify-python-startmenu.png\" alt=\"step-3\" width=\"600\"/>\n",
        "\n",
        "\n"
      ],
      "metadata": {
        "id": "0bz0Iswm5Dh1"
      }
    },
    {
      "cell_type": "markdown",
      "source": [
        "# Top 5 IDEs For Data Scientists\n",
        "\n",
        "## Spyder \n",
        "Scientific Python Development Environment (Spyder) is an open-source, cross-platform IDE for Data Science. The IDEs essential building blocks, include advanced editing, code analytical tools, IPython Console, variable explorer, plots, debugger and the help icon, which makes Spyder an ideal choice for data scientists.\n",
        "\n",
        "## JupyterLabs\n",
        "JupyterLab is an open-source web application, which has been designed to provide a user interface based on Jupyter Notebook. It allows the user to work with documents on Jupyter Notebook, born out of IPython in 2014. Its flexible interface lets users configure and arrange workflows in data science, scientific computing, computational journalism, and machine learning. A modular design allows for extensions that expand and enrich functionality. The application is easy to use, has an interactive data science interface, and is user-friendly for presentation or educational tools. \n",
        "\n",
        "## PyCharm\n",
        "PyCharm is an IDE for professional developers and data scientists. It has intelligent coding assistance that allows for smart code completion, code inspections, on-the-fly error highlighting and quick fixes, along with automated code refactorings and rich navigation capabilities. \n",
        "\n",
        "## Visual Studio Code\n",
        "VS Code is one of the most used Python IDEs. The IDE is known for its tools such as IntelliSense that allows features beyond syntax highlighting and smart completions based on variable types, imported modules, and functions definition. In addition, VS Code allows debugging code right from the editor with breakpoints, call stacks and an interactive console. Furthermore, VS Code is extensible and customisable, allowing for the addition of new languages, themes, and debuggers. The IDE also has built-in Git commands. \n",
        "\n",
        "## What do Experts suggest? \n",
        "According to Chief Data Scientist at PayU Finance, Piyush Gupta, “At PayU, the developers tend to choose the platform of their own choice for development. However, the majority of them use a combination of Jupyter Notebooks and PyCharm. Jupyter is great for initial EDA and provides flexibility for a lot of basic tasks. Personally, I prefer to use PyCharm because of better environment management, more accurate refactoring, better package management, a dedicated python console, better navigation & UX, and advanced debugging capabilities.”\n",
        "\n",
        "## What do I prefer for Beginners?\n",
        "For me the best learning tool for a beginner would always be google colab. I know it might lack some of the interesting features of a full fledged IDE. But its free and you dont need heavy machinery to load it.\n",
        "\n",
        "You can get the following IDEs through the link below:\n",
        "\n",
        "Anaconda: https://www.anaconda.com/products/distribution\n",
        "\n",
        "(Through anaconda we can access jupter labs, spyder)\n",
        "\n",
        "If you want to install them seperately try below links\n",
        "\n",
        "Jupyter : https://jupyter.org/install\n",
        "\n",
        "Spyder: https://www.spyder-ide.org/\n",
        "\n",
        "PyCharm: https://www.jetbrains.com/pycharm/download/#section=windows\n",
        "\n",
        "PyCharm-edu (lite): https://www.jetbrains.com/edu-products/download/#section=pycharm-edu\n",
        "\n",
        "VS Code: https://code.visualstudio.com/download\n",
        "\n"
      ],
      "metadata": {
        "id": "KaCnhRyP8zag"
      }
    },
    {
      "cell_type": "code",
      "source": [],
      "metadata": {
        "id": "l2hvJK5W_-VT"
      },
      "execution_count": null,
      "outputs": []
    }
  ]
}