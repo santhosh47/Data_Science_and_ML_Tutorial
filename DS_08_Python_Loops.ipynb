{
  "nbformat": 4,
  "nbformat_minor": 0,
  "metadata": {
    "colab": {
      "provenance": [],
      "authorship_tag": "ABX9TyN8SoYkEfdvQGfMbSVu/Ykt",
      "include_colab_link": true
    },
    "kernelspec": {
      "name": "python3",
      "display_name": "Python 3"
    },
    "language_info": {
      "name": "python"
    }
  },
  "cells": [
    {
      "cell_type": "markdown",
      "metadata": {
        "id": "view-in-github",
        "colab_type": "text"
      },
      "source": [
        "<a href=\"https://colab.research.google.com/github/santhosh47/Data_Science_and_ML_Tutorial/blob/main/DS_08_Python_Loops.ipynb\" target=\"_parent\"><img src=\"https://colab.research.google.com/assets/colab-badge.svg\" alt=\"Open In Colab\"/></a>"
      ]
    },
    {
      "cell_type": "markdown",
      "source": [
        "#Loops\n",
        "\n",
        "here are two types of loops in Python, for and while.\n",
        "\n",
        "## The \"for\" loop\n",
        "For loops iterate over a given sequence. Here is an example:"
      ],
      "metadata": {
        "id": "eDBfKfnTHL4z"
      }
    },
    {
      "cell_type": "code",
      "source": [
        "primes = [2, 3, 5, 7]\n",
        "for prime in primes:\n",
        "    print(prime)"
      ],
      "metadata": {
        "id": "cIYQMp3xHHZh"
      },
      "execution_count": null,
      "outputs": []
    },
    {
      "cell_type": "markdown",
      "source": [
        "For loops can iterate over a sequence of numbers using the \"range\" and \"xrange\" functions. The difference between range and xrange is that the range function returns a new list with numbers of that specified range, whereas xrange returns an iterator, which is more efficient. (Python 3 uses the range function, which acts like xrange). Note that the range function is zero based."
      ],
      "metadata": {
        "id": "1dzJd8ZrHKPB"
      }
    },
    {
      "cell_type": "code",
      "source": [
        "# Prints out the numbers 0,1,2,3,4\n",
        "for x in range(5):\n",
        "    print(x)\n",
        "\n",
        "# Prints out 3,4,5\n",
        "for x in range(3, 6):\n",
        "    print(x)\n",
        "\n",
        "# Prints out 3,5,7\n",
        "for x in range(3, 8, 2):\n",
        "    print(x)"
      ],
      "metadata": {
        "id": "baA0fXSJHPUS"
      },
      "execution_count": null,
      "outputs": []
    },
    {
      "cell_type": "markdown",
      "source": [
        "##\"while\" loops\n",
        "While loops repeat as long as a certain boolean condition is met. For example:"
      ],
      "metadata": {
        "id": "S7f79Zv7HRj8"
      }
    },
    {
      "cell_type": "code",
      "source": [
        "# Prints out 0,1,2,3,4\n",
        "\n",
        "count = 0\n",
        "while count < 5:\n",
        "    print(count)\n",
        "    count += 1  # This is the same as count = count + 1"
      ],
      "metadata": {
        "id": "ECUt9A-lHUdI"
      },
      "execution_count": null,
      "outputs": []
    },
    {
      "cell_type": "markdown",
      "source": [
        "## \"break\" and \"continue\" statements\n",
        "break is used to exit a for loop or a while loop, whereas continue is used to skip the current block, and return to the \"for\" or \"while\" statement. A few examples:"
      ],
      "metadata": {
        "id": "7otzRbynHWd1"
      }
    },
    {
      "cell_type": "code",
      "source": [
        "# Prints out 0,1,2,3,4\n",
        "\n",
        "count = 0\n",
        "while True:\n",
        "    print(count)\n",
        "    count += 1\n",
        "    if count >= 5:\n",
        "        break\n",
        "\n",
        "# Prints out only odd numbers - 1,3,5,7,9\n",
        "for x in range(10):\n",
        "    # Check if x is even\n",
        "    if x % 2 == 0:\n",
        "        continue\n",
        "    print(x)"
      ],
      "metadata": {
        "id": "f-wkN9UmHY_j"
      },
      "execution_count": null,
      "outputs": []
    },
    {
      "cell_type": "markdown",
      "source": [
        "## Introduction to the Python pass statement\n",
        "Suppose that you have the following if...else statement:"
      ],
      "metadata": {
        "id": "ePd0aDIsIWkH"
      }
    },
    {
      "cell_type": "code",
      "source": [
        "counter = 1\n",
        "max = 10\n",
        "if counter <= max:\n",
        "    counter += 1\n",
        "else:\n",
        "    # implement later\n"
      ],
      "metadata": {
        "id": "yTNB5u-CIZTS"
      },
      "execution_count": null,
      "outputs": []
    },
    {
      "cell_type": "markdown",
      "source": [
        "In the else clause, you haven’t got any code yet. But you’ll write code for this else clause later.\n",
        "\n",
        "In this case, if you run the code, you’ll get a syntax error (SyntaxError).\n",
        "\n",
        "This is where the Python pass statement comes into play:"
      ],
      "metadata": {
        "id": "jjgphin3Ic22"
      }
    },
    {
      "cell_type": "code",
      "source": [
        "counter = 1\n",
        "max = 10\n",
        "if counter <= max:\n",
        "    counter += 1\n",
        "else:\n",
        "    pass"
      ],
      "metadata": {
        "id": "qface-0MIeUk"
      },
      "execution_count": null,
      "outputs": []
    },
    {
      "cell_type": "markdown",
      "source": [
        "The pass statement is a statement that does nothing. It’s just a placeholder for the code that you’ll write in the future.\n",
        "\n",
        "When you run the code that contains a pass statement, the Python interpreter will treat the pass statement as a single statement. As a result, it doesn’t issue a syntax error.\n",
        "\n",
        "Technically, you can use the pass statement in many statement in Python.\n",
        "\n",
        "Let’s take some examples of using the pass statement."
      ],
      "metadata": {
        "id": "wqh1Q4zIIjlI"
      }
    },
    {
      "cell_type": "code",
      "source": [
        "if condition:\n",
        "    pass"
      ],
      "metadata": {
        "id": "oGokhDTRIlyR"
      },
      "execution_count": null,
      "outputs": []
    },
    {
      "cell_type": "code",
      "source": [
        "for i in range(1,100):\n",
        "    pass"
      ],
      "metadata": {
        "id": "adesS2cCInwT"
      },
      "execution_count": null,
      "outputs": []
    },
    {
      "cell_type": "code",
      "source": [
        "while condition:\n",
        "    pass"
      ],
      "metadata": {
        "id": "3K19gGzwIpGy"
      },
      "execution_count": null,
      "outputs": []
    },
    {
      "cell_type": "code",
      "source": [
        "def fn():\n",
        "    pass"
      ],
      "metadata": {
        "id": "eDmYqqTsIqeV"
      },
      "execution_count": null,
      "outputs": []
    },
    {
      "cell_type": "code",
      "source": [
        "class Stream:\n",
        "    pass"
      ],
      "metadata": {
        "id": "9KY1Cjw_Is2C"
      },
      "execution_count": null,
      "outputs": []
    },
    {
      "cell_type": "markdown",
      "source": [
        "## Can we use \"else\" clause for loops?\n",
        "Unlike languages like C,CPP.. we can use else for loops. When the loop condition of \"for\" or \"while\" statement fails then code part in \"else\" is executed. If a break statement is executed inside the for loop then the \"else\" part is skipped. Note that the \"else\" part is executed even if there is a continue statement.\n",
        "\n",
        "Here are a few examples:"
      ],
      "metadata": {
        "id": "XYOJcfMiHbpv"
      }
    },
    {
      "cell_type": "code",
      "source": [
        "# Prints out 0,1,2,3,4 and then it prints \"count value reached 5\"\n",
        "\n",
        "count=0\n",
        "while(count<5):\n",
        "    print(count)\n",
        "    count +=1\n",
        "else:\n",
        "    print(\"count value reached %d\" %(count))\n",
        "\n",
        "# Prints out 1,2,3,4\n",
        "for i in range(1, 10):\n",
        "    if(i%5==0):\n",
        "        break\n",
        "    print(i)\n",
        "else:\n",
        "    print(\"this is not printed because for loop is terminated because of break but not due to fail in condition\")"
      ],
      "metadata": {
        "id": "z28xPxsMHgIh"
      },
      "execution_count": null,
      "outputs": []
    }
  ]
}