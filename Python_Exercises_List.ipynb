{
  "nbformat": 4,
  "nbformat_minor": 0,
  "metadata": {
    "colab": {
      "provenance": [],
      "authorship_tag": "ABX9TyMBGhwI5x/Cr1KEiL8mPjzM",
      "include_colab_link": true
    },
    "kernelspec": {
      "name": "python3",
      "display_name": "Python 3"
    },
    "language_info": {
      "name": "python"
    }
  },
  "cells": [
    {
      "cell_type": "markdown",
      "metadata": {
        "id": "view-in-github",
        "colab_type": "text"
      },
      "source": [
        "<a href=\"https://colab.research.google.com/github/santhosh47/Data_Science_and_ML_Tutorial/blob/main/Python_Exercises_List.ipynb\" target=\"_parent\"><img src=\"https://colab.research.google.com/assets/colab-badge.svg\" alt=\"Open In Colab\"/></a>"
      ]
    },
    {
      "cell_type": "markdown",
      "source": [
        "You can refer the Internet for solutions but you need to explain the solutions so yoy'd have to understand the logic behind the task and why certain functionalities have been used."
      ],
      "metadata": {
        "id": "NRBBivBK6pr2"
      }
    },
    {
      "cell_type": "markdown",
      "source": [
        "##Exercise 1: Reverse a list in Python"
      ],
      "metadata": {
        "id": "OzVN0ubc4Eeq"
      }
    },
    {
      "cell_type": "code",
      "execution_count": null,
      "metadata": {
        "colab": {
          "base_uri": "https://localhost:8080/"
        },
        "id": "z-HCFE9kZVcO",
        "outputId": "1ca341fa-1145-461a-8107-9458710e379b"
      },
      "outputs": [
        {
          "name": "stdout",
          "output_type": "stream",
          "text": [
            "enter a even number greater than 2 : 10\n"
          ]
        }
      ],
      "source": [
        "#Given:\n",
        "\n",
        "list1 = [100, 200, 300, 400, 500]\n",
        "\n"
      ]
    },
    {
      "cell_type": "code",
      "source": [
        "#Expected output:\n",
        "[500, 400, 300, 200, 100]"
      ],
      "metadata": {
        "colab": {
          "base_uri": "https://localhost:8080/"
        },
        "id": "LZOAgG7nZbWp",
        "outputId": "8bfc2448-dd89-4df3-e651-6d6565d542f8"
      },
      "execution_count": null,
      "outputs": [
        {
          "output_type": "stream",
          "name": "stdout",
          "text": [
            "2\n",
            "4\n",
            "5\n",
            "6\n",
            "7\n",
            "8\n"
          ]
        }
      ]
    },
    {
      "cell_type": "markdown",
      "source": [
        "##Exercise 2: Concatenate two lists index-wise\n",
        "Write a program to add two lists index-wise. Create a new list that contains the 0th index item from both the list, then the 1st index item, and so on till the last element. any leftover items will get added at the end of the new list."
      ],
      "metadata": {
        "id": "RC0XBKF_4VHU"
      }
    },
    {
      "cell_type": "code",
      "source": [
        "#Given:\n",
        "list1 = [\"M\", \"na\", \"i\", \"Ke\"]\n",
        "list2 = [\"y\", \"me\", \"s\", \"lly\"]"
      ],
      "metadata": {
        "colab": {
          "base_uri": "https://localhost:8080/"
        },
        "id": "GKCRYsqMasSZ",
        "outputId": "7c33bbb3-1133-445a-997b-d4832b61a305"
      },
      "execution_count": null,
      "outputs": [
        {
          "output_type": "stream",
          "name": "stdout",
          "text": [
            "[5, 7]\n"
          ]
        }
      ]
    },
    {
      "cell_type": "code",
      "source": [
        "#Expected output:\n",
        "['My', 'name', 'is', 'Kelly']"
      ],
      "metadata": {
        "id": "ulL8P2vrbQC-"
      },
      "execution_count": null,
      "outputs": []
    },
    {
      "cell_type": "markdown",
      "source": [
        "##Exercise 3: Turn every item of a list into its square\n",
        "Given a list of numbers. write a program to turn every item of a list into its square."
      ],
      "metadata": {
        "id": "ApbIQO-S4kL9"
      }
    },
    {
      "cell_type": "code",
      "source": [
        "#Given\n",
        "numbers = [1, 2, 3, 4, 5, 6, 7]"
      ],
      "metadata": {
        "id": "-JEQeXCm4lvV"
      },
      "execution_count": null,
      "outputs": []
    },
    {
      "cell_type": "code",
      "source": [
        "#Expected output:\n",
        "[1, 4, 9, 16, 25, 36, 49]"
      ],
      "metadata": {
        "id": "p3H4j3iK4pWW"
      },
      "execution_count": null,
      "outputs": []
    },
    {
      "cell_type": "markdown",
      "source": [
        "##Exercise 4: Concatenate two lists in the following order"
      ],
      "metadata": {
        "id": "4xph0OFh4x9g"
      }
    },
    {
      "cell_type": "code",
      "source": [
        "#Given\n",
        "list1 = [\"Hello \", \"take \"]\n",
        "list2 = [\"Dear\", \"Sir\"]"
      ],
      "metadata": {
        "id": "q9MLXgDN42hx"
      },
      "execution_count": null,
      "outputs": []
    },
    {
      "cell_type": "code",
      "source": [
        "#Expected output:\n",
        "['Hello Dear', 'Hello Sir', 'take Dear', 'take Sir']"
      ],
      "metadata": {
        "id": "_GwMOQ1445yB"
      },
      "execution_count": null,
      "outputs": []
    },
    {
      "cell_type": "markdown",
      "source": [
        "##Exercise 5: Iterate both lists simultaneously\n",
        "Given a two Python list. Write a program to iterate both lists simultaneously and display items from list1 in original order and items from list2 in reverse order."
      ],
      "metadata": {
        "id": "cQD-uf8o5Alv"
      }
    },
    {
      "cell_type": "code",
      "source": [
        "#Given\n",
        "list1 = [10, 20, 30, 40]\n",
        "list2 = [100, 200, 300, 400]"
      ],
      "metadata": {
        "id": "kxkgi2A15FH9"
      },
      "execution_count": null,
      "outputs": []
    },
    {
      "cell_type": "code",
      "source": [
        "#Expected output:\n",
        "10 400\n",
        "20 300\n",
        "30 200\n",
        "40 100"
      ],
      "metadata": {
        "id": "U4-64y2E5Kgh"
      },
      "execution_count": null,
      "outputs": []
    },
    {
      "cell_type": "markdown",
      "source": [
        "##Exercise 6: Remove empty strings from the list of strings\n"
      ],
      "metadata": {
        "id": "9wh2rBun5Px9"
      }
    },
    {
      "cell_type": "code",
      "source": [
        "#given\n",
        "list1 = [\"Mike\", \"\", \"Emma\", \"Kelly\", \"\", \"Brad\"]"
      ],
      "metadata": {
        "id": "8QXi8o5j5Qut"
      },
      "execution_count": null,
      "outputs": []
    },
    {
      "cell_type": "code",
      "source": [
        "#Expected output:\n",
        "[\"Mike\", \"Emma\", \"Kelly\", \"Brad\"]"
      ],
      "metadata": {
        "id": "vMf3ucC55Uh5"
      },
      "execution_count": null,
      "outputs": []
    },
    {
      "cell_type": "markdown",
      "source": [
        "##Exercise 7: Add new item to list after a specified item\n",
        "Write a program to add item 7000 after 6000 in the following Python List"
      ],
      "metadata": {
        "id": "fA6CNdxb5cbk"
      }
    },
    {
      "cell_type": "code",
      "source": [
        "#Given\n",
        "list1 = [10, 20, [300, 400, [5000, 6000], 500], 30, 40]"
      ],
      "metadata": {
        "id": "vTlf_-PX5fpa"
      },
      "execution_count": null,
      "outputs": []
    },
    {
      "cell_type": "code",
      "source": [
        "#Expected output:\n",
        "[10, 20, [300, 400, [5000, 6000, 7000], 500], 30, 40]"
      ],
      "metadata": {
        "id": "ppeF5x7t5iKp"
      },
      "execution_count": null,
      "outputs": []
    },
    {
      "cell_type": "markdown",
      "source": [
        "##Exercise 8: Extend nested list by adding the sublist\n",
        "You have given a nested list. Write a program to extend it by adding the sublist [\"h\", \"i\", \"j\"] in such a way that it will look like the following list."
      ],
      "metadata": {
        "id": "IMCjJmKM5mde"
      }
    },
    {
      "cell_type": "code",
      "source": [
        "#Given\n",
        "list1 = [\"a\", \"b\", [\"c\", [\"d\", \"e\", [\"f\", \"g\"], \"k\"], \"l\"], \"m\", \"n\"]\n",
        "\n",
        "# sub list to add\n",
        "sub_list = [\"h\", \"i\", \"j\"]"
      ],
      "metadata": {
        "id": "aE43Ue1q5o0a"
      },
      "execution_count": null,
      "outputs": []
    },
    {
      "cell_type": "code",
      "source": [
        "#Expected Output:\n",
        "['a', 'b', ['c', ['d', 'e', ['f', 'g', 'h', 'i', 'j'], 'k'], 'l'], 'm', 'n']"
      ],
      "metadata": {
        "id": "NdWyXQZk5s7W"
      },
      "execution_count": null,
      "outputs": []
    },
    {
      "cell_type": "markdown",
      "source": [
        "##Exercise 9: Replace list’s item with new value if found\n",
        "You have given a Python list. Write a program to find value 20 in the list, and if it is present, replace it with 200. Only update the first occurrence of an item."
      ],
      "metadata": {
        "id": "28LSITyY5w5-"
      }
    },
    {
      "cell_type": "code",
      "source": [
        "#Given\n",
        "list1 = [5, 10, 15, 20, 25, 50, 20]"
      ],
      "metadata": {
        "id": "76ehpwAP51UB"
      },
      "execution_count": null,
      "outputs": []
    },
    {
      "cell_type": "code",
      "source": [
        "#Expected output:\n",
        "[5, 10, 15, 200, 25, 50, 20]"
      ],
      "metadata": {
        "id": "K03ceZca5330"
      },
      "execution_count": null,
      "outputs": []
    },
    {
      "cell_type": "markdown",
      "source": [
        "##Exercise 10: Remove all occurrences of a specific item from a list.\n",
        "Given a Python list, write a program to remove all occurrences of item 20."
      ],
      "metadata": {
        "id": "fWzIIYtX58U1"
      }
    },
    {
      "cell_type": "code",
      "source": [
        "#Given:\n",
        "list1 = [5, 20, 15, 20, 25, 50, 20]"
      ],
      "metadata": {
        "id": "xtJlCWzM59-z"
      },
      "execution_count": null,
      "outputs": []
    },
    {
      "cell_type": "code",
      "source": [
        "#Expected output:\n",
        "[5, 15, 25, 50]"
      ],
      "metadata": {
        "id": "4qAYCD1Y6DxQ"
      },
      "execution_count": null,
      "outputs": []
    }
  ]
}