{
  "nbformat": 4,
  "nbformat_minor": 0,
  "metadata": {
    "colab": {
      "provenance": [],
      "authorship_tag": "ABX9TyMjpwVERPUxmPpSPEuEEHQO",
      "include_colab_link": true
    },
    "kernelspec": {
      "name": "python3",
      "display_name": "Python 3"
    },
    "language_info": {
      "name": "python"
    }
  },
  "cells": [
    {
      "cell_type": "markdown",
      "metadata": {
        "id": "view-in-github",
        "colab_type": "text"
      },
      "source": [
        "<a href=\"https://colab.research.google.com/github/santhosh47/Data_Science_and_ML_Tutorial/blob/main/DS_05_Python_Data_Types_01.ipynb\" target=\"_parent\"><img src=\"https://colab.research.google.com/assets/colab-badge.svg\" alt=\"Open In Colab\"/></a>"
      ]
    },
    {
      "cell_type": "markdown",
      "source": [
        "Data types specify the different sizes and values that can be stored in the variable. For example, Python stores numbers, strings, and a list of values using different data types.\n",
        "\n",
        "There are mainly four types of basic/primitive data types available in Python\n",
        "\n",
        "* Numeric: int, float, and complex\n",
        "* Sequence: String, list, and tuple\n",
        "* Set\n",
        "* Dictionary (dict)\n",
        "\n",
        "<img src=\"https://pynative.com/wp-content/uploads/2021/02/python-data-types.jpg\" alt=\"Girl in a jacket\" width=\"500\" >\n",
        "\n",
        "## Str data type\n",
        "In Python, A string is a sequence of characters enclosed within a single quote or double quote. These characters could be anything like letters, numbers, or special symbols enclosed within double quotation marks. \n",
        "\n",
        "The string type in Python is represented using a str class.\n",
        "\n",
        "To work with text or character data in Python, we use Strings. Once a string is created, we can do many operations on it, such as searching inside it, creating a substring from it, and splitting it."
      ],
      "metadata": {
        "id": "QN_wWFk5EnsC"
      }
    },
    {
      "cell_type": "code",
      "source": [
        "platform = \"PYnative\"\n",
        "print(type(platform))  # <class 'str'>\n",
        "\n",
        "# display string\n",
        "print(platform)  # 'PYnative'\n",
        "\n",
        "# accessing 2nd character of a string\n",
        "print(platform[1])  # y"
      ],
      "metadata": {
        "id": "Sfis6V2eFePn"
      },
      "execution_count": null,
      "outputs": []
    },
    {
      "cell_type": "markdown",
      "source": [
        "Note: The string is immutable, i.e., it can not be changed once defined. You need to create a copy of it if you want to modify it. This non-changeable behavior is called immutability."
      ],
      "metadata": {
        "id": "B27UJY_LFsT9"
      }
    },
    {
      "cell_type": "code",
      "execution_count": null,
      "metadata": {
        "id": "vz8fiJgOEcG7"
      },
      "outputs": [],
      "source": [
        "platform = \"PYnative\"\n",
        "# Now let's try to change 2nd character of a string.\n",
        "platform[0] = 'p'\n",
        "# Gives TypeError: 'str' object does not support item assignment"
      ]
    },
    {
      "cell_type": "markdown",
      "source": [
        "## Changing Case in a String with Methods\n",
        "One of the simplest tasks you can do with strings is change the case of the\n",
        "words in a string. Look at the following code, and try to determine what’s\n",
        "happening:"
      ],
      "metadata": {
        "id": "92eToDF-i_MH"
      }
    },
    {
      "cell_type": "code",
      "source": [
        "name = \"ada lovelace\"\n",
        "print(name.title())"
      ],
      "metadata": {
        "id": "IyE_ONGCjDy1"
      },
      "execution_count": null,
      "outputs": []
    },
    {
      "cell_type": "code",
      "source": [
        "name = \"Ada Lovelace\"\n",
        "print(name.upper())\n",
        "print(name.lower())"
      ],
      "metadata": {
        "id": "-wRuI7nujKBe"
      },
      "execution_count": null,
      "outputs": []
    },
    {
      "cell_type": "markdown",
      "source": [
        "## Combining or Concatenating Strings\n",
        "It’s often useful to combine strings. For example, you might want to store\n",
        "a first name and a last name in separate variables, and then combine them\n",
        "when you want to display someone’s full name:"
      ],
      "metadata": {
        "id": "lgaqQJLzjOAK"
      }
    },
    {
      "cell_type": "code",
      "source": [
        "first_name = \"ada\"\n",
        "last_name = \"lovelace\"\n",
        "full_name = first_name + \" \" + last_name\n",
        "print(full_name)"
      ],
      "metadata": {
        "id": "EOeUoElpjQjV"
      },
      "execution_count": null,
      "outputs": []
    },
    {
      "cell_type": "code",
      "source": [
        "print(\"Hello, \" + full_name.title() + \"!\")"
      ],
      "metadata": {
        "id": "jq__OvQZjbDH"
      },
      "execution_count": null,
      "outputs": []
    },
    {
      "cell_type": "markdown",
      "source": [
        "You can use concatenation to compose a message and then store the\n",
        "entire message in a variable:"
      ],
      "metadata": {
        "id": "i2uh4JVnjeTT"
      }
    },
    {
      "cell_type": "code",
      "source": [
        "message = \"Hello, \" + full_name.title() + \"!\"\n",
        "print(message)"
      ],
      "metadata": {
        "id": "4GZ1lUnojfdv"
      },
      "execution_count": null,
      "outputs": []
    },
    {
      "cell_type": "markdown",
      "source": [
        "## Adding Whitespace to Strings with Tabs or Newlines\n",
        "In programming, whitespace refers to any nonprinting character, such as\n",
        "spaces, tabs, and end-of-line symbols. You can use whitespace to organize\n",
        "your output so it’s easier for users to read.\n",
        "To add a tab to your text, use the character combination \\t as shown\n",
        "at:"
      ],
      "metadata": {
        "id": "wjU9c2ZFjmNH"
      }
    },
    {
      "cell_type": "code",
      "source": [
        "print(\"Languages:\\nPython\\nC\\nJavaScript\")"
      ],
      "metadata": {
        "id": "wSmdJClnjsPK"
      },
      "execution_count": null,
      "outputs": []
    },
    {
      "cell_type": "markdown",
      "source": [
        "You can also combine tabs and newlines in a single string. The string\n",
        "\"\\n\\t\" tells Python to move to a new line, and start the next line with a tab.\n",
        "The following example shows how you can use a one-line string to generate\n",
        "four lines of output:"
      ],
      "metadata": {
        "id": "xkTeVDMXjxs2"
      }
    },
    {
      "cell_type": "code",
      "source": [
        "print(\"Languages:\\n\\tPython\\n\\tC\\n\\tJavaScript\")"
      ],
      "metadata": {
        "id": "7ISKTcOkjzyB"
      },
      "execution_count": null,
      "outputs": []
    },
    {
      "cell_type": "markdown",
      "source": [
        "## Stripping Whitespace\n",
        "Python can look for extra whitespace on the right and left sides of a\n",
        "string. To ensure that no whitespace exists at the right end of a string, use\n",
        "the rstrip() method."
      ],
      "metadata": {
        "id": "SA2gF7AAj8pO"
      }
    },
    {
      "cell_type": "code",
      "source": [
        "favorite_language = 'python '\n",
        "print(favorite_language)"
      ],
      "metadata": {
        "colab": {
          "base_uri": "https://localhost:8080/"
        },
        "id": "uWuwC9aAkBfb",
        "outputId": "39d29b70-d138-4b1c-96ef-187f9a3f7856"
      },
      "execution_count": null,
      "outputs": [
        {
          "output_type": "stream",
          "name": "stdout",
          "text": [
            "python \n"
          ]
        }
      ]
    },
    {
      "cell_type": "code",
      "source": [
        "favorite_language.rstrip()"
      ],
      "metadata": {
        "colab": {
          "base_uri": "https://localhost:8080/",
          "height": 35
        },
        "id": "ltTDq-ifkIw6",
        "outputId": "1eff18b7-de0f-451a-add7-05cc586fa0ac"
      },
      "execution_count": null,
      "outputs": [
        {
          "output_type": "execute_result",
          "data": {
            "text/plain": [
              "'python'"
            ],
            "application/vnd.google.colaboratory.intrinsic+json": {
              "type": "string"
            }
          },
          "metadata": {},
          "execution_count": 2
        }
      ]
    },
    {
      "cell_type": "markdown",
      "source": [
        "You can also strip whitespace from the left side of a string using the\n",
        "lstrip() method or strip whitespace from both sides at once using strip():"
      ],
      "metadata": {
        "id": "TNtH0B4CkPNo"
      }
    },
    {
      "cell_type": "code",
      "source": [
        "favorite_language = ' python '"
      ],
      "metadata": {
        "id": "5DdxMxiIkNDY"
      },
      "execution_count": null,
      "outputs": []
    },
    {
      "cell_type": "code",
      "source": [
        "favorite_language.rstrip()"
      ],
      "metadata": {
        "id": "k7bEqf6XkcoN"
      },
      "execution_count": null,
      "outputs": []
    },
    {
      "cell_type": "code",
      "source": [
        "favorite_language.lstrip()"
      ],
      "metadata": {
        "id": "PhDyxl72kdTo"
      },
      "execution_count": null,
      "outputs": []
    },
    {
      "cell_type": "code",
      "source": [
        "favorite_language.strip()"
      ],
      "metadata": {
        "id": "SBg5k8JtkfZH"
      },
      "execution_count": null,
      "outputs": []
    },
    {
      "cell_type": "markdown",
      "source": [
        "There are other such string functions you can get them here: https://www.w3schools.com/python/python_ref_string.asp"
      ],
      "metadata": {
        "id": "hzzHO4UoomE5"
      }
    },
    {
      "cell_type": "markdown",
      "source": [
        "## Int data type\n",
        "Python uses the int data type to represent whole integer values. For example, we can use the int data type to store the roll number of a student. The Integer type in Python is represented using a int class.\n",
        "\n",
        "You can store positive and negative integer numbers of any length such as 235, -758, 235689741.\n",
        "\n",
        "We can create an integer variable using the two ways\n",
        "* Directly assigning an integer value to a variable\n",
        "* Using a int() class."
      ],
      "metadata": {
        "id": "CYvr48C2Em72"
      }
    },
    {
      "cell_type": "code",
      "source": [
        "# store int value\n",
        "roll_no = 33\n",
        "# display roll no\n",
        "print(\"Roll number is:\", roll_no)\n",
        "# output 33\n",
        "print(type(roll_no))  \n",
        "# output class 'int'\n",
        "\n",
        "# store integer using int() class\n",
        "id = int(25)\n",
        "print(id)  # 25\n",
        "print(type(id))  # class 'int'"
      ],
      "metadata": {
        "id": "JmtG4PFFF9FH"
      },
      "execution_count": null,
      "outputs": []
    },
    {
      "cell_type": "code",
      "source": [
        "# decimal int 16 with base 8\n",
        "# Prefix with zero + letter b\n",
        "octal_num = 0o20\n",
        "print(octal_num)  # 16\n",
        "print(type(octal_num))  # class 'int'\n",
        "\n",
        "# decimal int 16 with base 16\n",
        "# Prefix with zero + letter x\n",
        "hexadecimal_num = 0x10  # decimal equivalent of 21\n",
        "print(hexadecimal_num)  # 16\n",
        "print(type(hexadecimal_num))  # class 'int'\n",
        "\n",
        "# decimal int 16 with base 2\n",
        "# Prefix with zero + letter b\n",
        "binary_num = 0b10000  # decimal equivalent of 6\n",
        "print(binary_num)  # 16\n",
        "print(type(binary_num))  # class 'int'"
      ],
      "metadata": {
        "id": "qkYhx8jAGB9o"
      },
      "execution_count": null,
      "outputs": []
    },
    {
      "cell_type": "markdown",
      "source": [
        "## Float data type\n",
        "To represent floating-point values or decimal values, we can use the float data type. For example, if we want to store the salary, we can use the float type."
      ],
      "metadata": {
        "id": "Cn8ezne4GE5H"
      }
    },
    {
      "cell_type": "code",
      "source": [
        "# store a floating-point value\n",
        "salary = 8000.456\n",
        "print(\"Salary is :\", salary)  # 8000.456\n",
        "print(type(salary))  # class 'float'\n",
        "\n",
        "# store a floating-point value using float() class\n",
        "num = float(54.75)\n",
        "print(num)  # 54.75\n",
        "print(type(num))  # class 'float'"
      ],
      "metadata": {
        "id": "fbFsah7xGHLM"
      },
      "execution_count": null,
      "outputs": []
    },
    {
      "cell_type": "markdown",
      "source": [
        "Floating-point values can be represented using the exponential form, also called scientific notation. The benefit of using the exponential form to represent floating-point values is we can represent large values using less memory."
      ],
      "metadata": {
        "id": "__9pq_oXGNb2"
      }
    },
    {
      "cell_type": "code",
      "source": [
        "# exponential float\n",
        "num1 = 1.22e4\n",
        "print(num1)  # 12200.0\n",
        "print(type(num1))  # class 'float'"
      ],
      "metadata": {
        "id": "B4KTNZwBGPPJ"
      },
      "execution_count": null,
      "outputs": []
    },
    {
      "cell_type": "markdown",
      "source": [
        "## Complex data type\n",
        "A complex number is a number with a real and an imaginary component represented as a+bj where a and b contain integers or floating-point values.\n",
        "\n",
        "The complex type is generally used in scientific applications and electrical engineering applications. If we want to declare a complex value, then we can use the a+bj form. See the following example."
      ],
      "metadata": {
        "id": "__zaLRgGGSaF"
      }
    },
    {
      "cell_type": "code",
      "source": [
        "x = 9 + 8j  # both value are int type\n",
        "y = 10 + 4.5j  # one int and one float\n",
        "z = 11.2 + 1.2j  # both value are float type\n",
        "print(type(x))  # class 'complex'>\n",
        "\n",
        "print(x)  # (9+8j)\n",
        "print(y)  # (10+4.5j)\n",
        "print(z)  # (11.2+1.2j)"
      ],
      "metadata": {
        "id": "t2YDwpcwGVlY"
      },
      "execution_count": null,
      "outputs": []
    },
    {
      "cell_type": "markdown",
      "source": [
        "The real part of the complex number is represented using an integer value. The integer value can be in the form of either decimal, float, binary, or hexadecimal. But the imaginary part should be represented using the decimal form only. If we are trying to represent an imaginary part as binary, hex, or octal, we will get an error.\n",
        "\n",
        "## List data type\n",
        "\n",
        "The Python List is an ordered collection (also known as a sequence ) of elements. List elements can be accessed, iterated, and removed according to the order they inserted at the creation time.\n",
        "\n",
        "We use the list data type to represent groups of the element as a single entity.  For example: If we want to store all student’s names, we can use list type.\n",
        "\n",
        "* The list can contain data of all data types such as  int, float, string\n",
        "* Duplicates elements are allowed in the list\n",
        "* The list is mutable which means we can modify the value of list elements\n",
        "\n",
        "We can create a list using the two ways\n",
        "\n",
        "* By enclosing elements in the square brackets [].\n",
        "* Using a list() class."
      ],
      "metadata": {
        "id": "z-OTFW9SGaWa"
      }
    },
    {
      "cell_type": "code",
      "source": [
        "my_list = [\"Jessa\", \"Kelly\", 20, 35.75]\n",
        "# display list\n",
        "print(my_list)  # ['Jessa', 'Kelly', 20, 35.75]\n",
        "print(type(my_list))  # class 'list'\n",
        "\n"
      ],
      "metadata": {
        "id": "7ZSwhy1OGz-X"
      },
      "execution_count": null,
      "outputs": []
    },
    {
      "cell_type": "code",
      "source": [
        "# Accessing first element of list\n",
        "print(my_list[0])  # 'Jessa'\n",
        "\n"
      ],
      "metadata": {
        "id": "VY8WjHRZG2Gi"
      },
      "execution_count": null,
      "outputs": []
    },
    {
      "cell_type": "code",
      "source": [
        "# slicing list elements\n",
        "print(my_list[1:5])  # ['Kelly', 20, 35.75]\n",
        "\n"
      ],
      "metadata": {
        "id": "S2EY2_1eG39h"
      },
      "execution_count": null,
      "outputs": []
    },
    {
      "cell_type": "code",
      "source": [
        "# modify 2nd element of a list\n",
        "my_list[1] = \"Emma\"\n",
        "print(my_list[1])  # 'Emma'\n",
        "\n"
      ],
      "metadata": {
        "id": "SCX_Q3anG34X"
      },
      "execution_count": null,
      "outputs": []
    },
    {
      "cell_type": "code",
      "source": [
        "# create list using a list class\n",
        "my_list2 = list([\"Jessa\", \"Kelly\", 20, 35.75])\n",
        "print(my_list2)  # ['Jessa', 'Kelly', 20, 35.75]"
      ],
      "metadata": {
        "id": "B5zRhPlVG79d"
      },
      "execution_count": null,
      "outputs": []
    },
    {
      "cell_type": "markdown",
      "source": [
        "## Tuple data type\n",
        "Tuples are ordered collections of elements that are unchangeable. The tuple is the same as the list, except the tuple is immutable means we can’t modify the tuple once created.\n",
        "\n",
        "In other words, we can say a tuple is a read-only version of the list.\n",
        "\n",
        "For example: If you want to store the roll numbers of students that you don’t change, you can use the tuple data type.\n",
        "\n",
        "Note: Tuple maintains the insertion order and also, allows us to store duplicate elements.\n",
        "\n",
        "We can create a tuple using the two ways\n",
        "\n",
        "* By enclosing elements in the parenthesis ()\n",
        "* Using a tuple() class."
      ],
      "metadata": {
        "id": "PXkf5PCEJ-jN"
      }
    },
    {
      "cell_type": "code",
      "source": [
        "# create a tuple\n",
        "my_tuple = (11, 24, 56, 88, 78)\n",
        "print(my_tuple)  # (11, 24, 56, 88, 78)\n",
        "print(type(my_tuple))  # class 'tuple'\n",
        "\n"
      ],
      "metadata": {
        "id": "0nlPgBNxKGLy"
      },
      "execution_count": null,
      "outputs": []
    },
    {
      "cell_type": "code",
      "source": [
        "# Accessing 3rd element of a tuple\n",
        "print(my_tuple[2])  # 56\n",
        "\n"
      ],
      "metadata": {
        "id": "0vwucpceKIdQ"
      },
      "execution_count": null,
      "outputs": []
    },
    {
      "cell_type": "code",
      "source": [
        "# slice a tuple\n",
        "print(my_tuple[2:7])  # (56, 88, 78)\n",
        "\n"
      ],
      "metadata": {
        "id": "kpRHGFbRKJ_I"
      },
      "execution_count": null,
      "outputs": []
    },
    {
      "cell_type": "code",
      "source": [
        "# create a tuple using a tuple() class\n",
        "my_tuple2 = tuple((10, 20, 30, 40))\n",
        "print(my_tuple2)  # (10, 20, 30, 40)"
      ],
      "metadata": {
        "id": "GLjjPYN3KLvL"
      },
      "execution_count": null,
      "outputs": []
    }
  ]
}